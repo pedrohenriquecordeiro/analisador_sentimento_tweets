{
 "cells": [
  {
   "cell_type": "code",
   "execution_count": 1,
   "metadata": {},
   "outputs": [],
   "source": [
    "import pandas as pd\n",
    "import matplotlib.pyplot as plt"
   ]
  },
  {
   "cell_type": "markdown",
   "metadata": {},
   "source": [
    "## Arquivo NoThemeTweets.csv"
   ]
  },
  {
   "cell_type": "code",
   "execution_count": 2,
   "metadata": {},
   "outputs": [],
   "source": [
    "no_theme_tweets = pd.read_csv('../portuguese-tweets-for-sentiment-analysis/NoThemeTweets.csv')"
   ]
  },
  {
   "cell_type": "code",
   "execution_count": 3,
   "metadata": {},
   "outputs": [
    {
     "name": "stdout",
     "output_type": "stream",
     "text": [
      "785814\n"
     ]
    },
    {
     "data": {
      "text/html": [
       "<div>\n",
       "<style scoped>\n",
       "    .dataframe tbody tr th:only-of-type {\n",
       "        vertical-align: middle;\n",
       "    }\n",
       "\n",
       "    .dataframe tbody tr th {\n",
       "        vertical-align: top;\n",
       "    }\n",
       "\n",
       "    .dataframe thead th {\n",
       "        text-align: right;\n",
       "    }\n",
       "</style>\n",
       "<table border=\"1\" class=\"dataframe\">\n",
       "  <thead>\n",
       "    <tr style=\"text-align: right;\">\n",
       "      <th></th>\n",
       "      <th>id</th>\n",
       "      <th>tweet_text</th>\n",
       "      <th>tweet_date</th>\n",
       "      <th>sentiment</th>\n",
       "      <th>query_used</th>\n",
       "    </tr>\n",
       "  </thead>\n",
       "  <tbody>\n",
       "    <tr>\n",
       "      <th>724508</th>\n",
       "      <td>1046238458228936704</td>\n",
       "      <td>Minha namorada só tem internet p WhatsApp, é e...</td>\n",
       "      <td>Sun Sep 30 03:21:01 +0000 2018</td>\n",
       "      <td>Negativo</td>\n",
       "      <td>:(</td>\n",
       "    </tr>\n",
       "    <tr>\n",
       "      <th>137032</th>\n",
       "      <td>1030880192867254272</td>\n",
       "      <td>@OfficialMonstaX ai meu deus :( te amo</td>\n",
       "      <td>Sat Aug 18 18:12:45 +0000 2018</td>\n",
       "      <td>Negativo</td>\n",
       "      <td>:(</td>\n",
       "    </tr>\n",
       "    <tr>\n",
       "      <th>120268</th>\n",
       "      <td>1031180546892865536</td>\n",
       "      <td>to jogando o left behind do the last of us e e...</td>\n",
       "      <td>Sun Aug 19 14:06:15 +0000 2018</td>\n",
       "      <td>Negativo</td>\n",
       "      <td>:(</td>\n",
       "    </tr>\n",
       "    <tr>\n",
       "      <th>351547</th>\n",
       "      <td>1038569561992450050</td>\n",
       "      <td>@konohatweeteira @DoomGBR se voce postou um tw...</td>\n",
       "      <td>Sat Sep 08 23:27:33 +0000 2018</td>\n",
       "      <td>Positivo</td>\n",
       "      <td>:)</td>\n",
       "    </tr>\n",
       "    <tr>\n",
       "      <th>638267</th>\n",
       "      <td>1044140860814897152</td>\n",
       "      <td>Compensou levantar-me mais cedo :))</td>\n",
       "      <td>Mon Sep 24 08:25:55 +0000 2018</td>\n",
       "      <td>Positivo</td>\n",
       "      <td>:)</td>\n",
       "    </tr>\n",
       "  </tbody>\n",
       "</table>\n",
       "</div>"
      ],
      "text/plain": [
       "                         id  \\\n",
       "724508  1046238458228936704   \n",
       "137032  1030880192867254272   \n",
       "120268  1031180546892865536   \n",
       "351547  1038569561992450050   \n",
       "638267  1044140860814897152   \n",
       "\n",
       "                                               tweet_text  \\\n",
       "724508  Minha namorada só tem internet p WhatsApp, é e...   \n",
       "137032             @OfficialMonstaX ai meu deus :( te amo   \n",
       "120268  to jogando o left behind do the last of us e e...   \n",
       "351547  @konohatweeteira @DoomGBR se voce postou um tw...   \n",
       "638267                Compensou levantar-me mais cedo :))   \n",
       "\n",
       "                            tweet_date sentiment query_used  \n",
       "724508  Sun Sep 30 03:21:01 +0000 2018  Negativo         :(  \n",
       "137032  Sat Aug 18 18:12:45 +0000 2018  Negativo         :(  \n",
       "120268  Sun Aug 19 14:06:15 +0000 2018  Negativo         :(  \n",
       "351547  Sat Sep 08 23:27:33 +0000 2018  Positivo         :)  \n",
       "638267  Mon Sep 24 08:25:55 +0000 2018  Positivo         :)  "
      ]
     },
     "execution_count": 3,
     "metadata": {},
     "output_type": "execute_result"
    }
   ],
   "source": [
    "print(len(no_theme_tweets))\n",
    "no_theme_tweets.sample(5)"
   ]
  },
  {
   "cell_type": "code",
   "execution_count": 4,
   "metadata": {},
   "outputs": [
    {
     "data": {
      "text/plain": [
       "array(['Positivo', 'Negativo'], dtype=object)"
      ]
     },
     "execution_count": 4,
     "metadata": {},
     "output_type": "execute_result"
    }
   ],
   "source": [
    "no_theme_tweets.sentiment.unique()"
   ]
  },
  {
   "cell_type": "code",
   "execution_count": 5,
   "metadata": {},
   "outputs": [
    {
     "data": {
      "image/png": "[encoded data removed]",
      "text/plain": [
       "<Figure size 432x288 with 1 Axes>"
      ]
     },
     "metadata": {
      "needs_background": "light"
     },
     "output_type": "display_data"
    }
   ],
   "source": [
    "series = no_theme_tweets['sentiment'].value_counts()\n",
    "ax = series.plot(kind='bar', title='')\n",
    "ax.set_xlabel('Sentimento')\n",
    "ax.set_ylabel('Quantidade')\n",
    "plt.show()"
   ]
  },
  {
   "cell_type": "code",
   "execution_count": 6,
   "metadata": {},
   "outputs": [
    {
     "name": "stdout",
     "output_type": "stream",
     "text": [
      "Positivo = 33.482096% \n",
      "Negativo = 66.517904% \n"
     ]
    }
   ],
   "source": [
    "series = no_theme_tweets['sentiment'].value_counts()\n",
    "por_neg = (series.Negativo / ( series.Negativo + series.Positivo )) * 100\n",
    "por_pos = (series.Positivo / ( series.Negativo + series.Positivo )) * 100\n",
    "print(\"Positivo = %f%% \\nNegativo = %f%% \" % (por_pos,por_neg))"
   ]
  },
  {
   "cell_type": "markdown",
   "metadata": {},
   "source": [
    "## Arquivo TweetsNeutralHash.csv"
   ]
  },
  {
   "cell_type": "code",
   "execution_count": 7,
   "metadata": {},
   "outputs": [],
   "source": [
    "tweets_neutral_hash = pd.read_csv('../portuguese-tweets-for-sentiment-analysis/TweetsNeutralHash.csv')"
   ]
  },
  {
   "cell_type": "code",
   "execution_count": 8,
   "metadata": {},
   "outputs": [
    {
     "name": "stdout",
     "output_type": "stream",
     "text": [
      "15727\n"
     ]
    },
    {
     "data": {
      "text/html": [
       "<div>\n",
       "<style scoped>\n",
       "    .dataframe tbody tr th:only-of-type {\n",
       "        vertical-align: middle;\n",
       "    }\n",
       "\n",
       "    .dataframe tbody tr th {\n",
       "        vertical-align: top;\n",
       "    }\n",
       "\n",
       "    .dataframe thead th {\n",
       "        text-align: right;\n",
       "    }\n",
       "</style>\n",
       "<table border=\"1\" class=\"dataframe\">\n",
       "  <thead>\n",
       "    <tr style=\"text-align: right;\">\n",
       "      <th></th>\n",
       "      <th>id</th>\n",
       "      <th>tweet_text</th>\n",
       "      <th>tweet_date</th>\n",
       "      <th>sentiment</th>\n",
       "      <th>query_used</th>\n",
       "    </tr>\n",
       "  </thead>\n",
       "  <tbody>\n",
       "    <tr>\n",
       "      <th>3498</th>\n",
       "      <td>1028241899893665792</td>\n",
       "      <td>Um lindo dia ! Em busca do objetivo principal ...</td>\n",
       "      <td>Sat Aug 11 11:29:07 +0000 2018</td>\n",
       "      <td>Neutro</td>\n",
       "      <td>#trabalho</td>\n",
       "    </tr>\n",
       "    <tr>\n",
       "      <th>9804</th>\n",
       "      <td>1039299477981618177</td>\n",
       "      <td>Inscrição para cursos gratuitos terminam dia 1...</td>\n",
       "      <td>Mon Sep 10 23:47:59 +0000 2018</td>\n",
       "      <td>Neutro</td>\n",
       "      <td>#oportunidade</td>\n",
       "    </tr>\n",
       "    <tr>\n",
       "      <th>8334</th>\n",
       "      <td>1034248928731062272</td>\n",
       "      <td>Fim de expediente! Hoje o encontro foi com os ...</td>\n",
       "      <td>Tue Aug 28 01:18:54 +0000 2018</td>\n",
       "      <td>Neutro</td>\n",
       "      <td>#trabalho</td>\n",
       "    </tr>\n",
       "    <tr>\n",
       "      <th>8965</th>\n",
       "      <td>1036947078231085056</td>\n",
       "      <td>Homem-Aranha | Comparação dos gráficos; houve ...</td>\n",
       "      <td>Tue Sep 04 12:00:23 +0000 2018</td>\n",
       "      <td>Neutro</td>\n",
       "      <td>#noticia</td>\n",
       "    </tr>\n",
       "    <tr>\n",
       "      <th>11056</th>\n",
       "      <td>1040574863814139904</td>\n",
       "      <td>Vídeo forte!!!! Vejam e reflitam sobre ele 😢😢😢...</td>\n",
       "      <td>Fri Sep 14 12:15:55 +0000 2018</td>\n",
       "      <td>Neutro</td>\n",
       "      <td>#fato</td>\n",
       "    </tr>\n",
       "  </tbody>\n",
       "</table>\n",
       "</div>"
      ],
      "text/plain": [
       "                        id                                         tweet_text  \\\n",
       "3498   1028241899893665792  Um lindo dia ! Em busca do objetivo principal ...   \n",
       "9804   1039299477981618177  Inscrição para cursos gratuitos terminam dia 1...   \n",
       "8334   1034248928731062272  Fim de expediente! Hoje o encontro foi com os ...   \n",
       "8965   1036947078231085056  Homem-Aranha | Comparação dos gráficos; houve ...   \n",
       "11056  1040574863814139904  Vídeo forte!!!! Vejam e reflitam sobre ele 😢😢😢...   \n",
       "\n",
       "                           tweet_date sentiment     query_used  \n",
       "3498   Sat Aug 11 11:29:07 +0000 2018    Neutro      #trabalho  \n",
       "9804   Mon Sep 10 23:47:59 +0000 2018    Neutro  #oportunidade  \n",
       "8334   Tue Aug 28 01:18:54 +0000 2018    Neutro      #trabalho  \n",
       "8965   Tue Sep 04 12:00:23 +0000 2018    Neutro       #noticia  \n",
       "11056  Fri Sep 14 12:15:55 +0000 2018    Neutro          #fato  "
      ]
     },
     "execution_count": 8,
     "metadata": {},
     "output_type": "execute_result"
    }
   ],
   "source": [
    "print(len(tweets_neutral_hash))\n",
    "tweets_neutral_hash.sample(5)"
   ]
  },
  {
   "cell_type": "code",
   "execution_count": 9,
   "metadata": {},
   "outputs": [
    {
     "data": {
      "text/plain": [
       "array(['Neutro'], dtype=object)"
      ]
     },
     "execution_count": 9,
     "metadata": {},
     "output_type": "execute_result"
    }
   ],
   "source": [
    "tweets_neutral_hash.sentiment.unique()"
   ]
  },
  {
   "cell_type": "code",
   "execution_count": 19,
   "metadata": {},
   "outputs": [
    {
     "data": {
      "image/png": "[encoded data removed]",
      "text/plain": [
       "<Figure size 432x288 with 1 Axes>"
      ]
     },
     "metadata": {
      "needs_background": "light"
     },
     "output_type": "display_data"
    }
   ],
   "source": [
    "series = tweets_neutral_hash['query_used'].value_counts()\n",
    "ax = series.plot(kind='bar', title='')\n",
    "ax.set_xlabel('Hashtag')\n",
    "ax.set_ylabel('Quantidade')\n",
    "plt.show()"
   ]
  },
  {
   "cell_type": "markdown",
   "metadata": {},
   "source": [
    "## Arquivo TweetsNeutralNews.csv"
   ]
  },
  {
   "cell_type": "code",
   "execution_count": 10,
   "metadata": {},
   "outputs": [],
   "source": [
    "tweets_neutral_news = pd.read_csv('../portuguese-tweets-for-sentiment-analysis/TweetsNeutralNews.csv')"
   ]
  },
  {
   "cell_type": "code",
   "execution_count": 11,
   "metadata": {},
   "outputs": [
    {
     "name": "stdout",
     "output_type": "stream",
     "text": [
      "37556\n"
     ]
    },
    {
     "data": {
      "text/html": [
       "<div>\n",
       "<style scoped>\n",
       "    .dataframe tbody tr th:only-of-type {\n",
       "        vertical-align: middle;\n",
       "    }\n",
       "\n",
       "    .dataframe tbody tr th {\n",
       "        vertical-align: top;\n",
       "    }\n",
       "\n",
       "    .dataframe thead th {\n",
       "        text-align: right;\n",
       "    }\n",
       "</style>\n",
       "<table border=\"1\" class=\"dataframe\">\n",
       "  <thead>\n",
       "    <tr style=\"text-align: right;\">\n",
       "      <th></th>\n",
       "      <th>id</th>\n",
       "      <th>tweet_text</th>\n",
       "      <th>tweet_date</th>\n",
       "      <th>sentiment</th>\n",
       "      <th>query_used</th>\n",
       "    </tr>\n",
       "  </thead>\n",
       "  <tbody>\n",
       "    <tr>\n",
       "      <th>30470</th>\n",
       "      <td>1046774916778000389</td>\n",
       "      <td>Jovem é morto durante operação no Complexo do ...</td>\n",
       "      <td>Mon Oct 01 14:52:42 +0000 2018</td>\n",
       "      <td>Neutro</td>\n",
       "      <td>g1</td>\n",
       "    </tr>\n",
       "    <tr>\n",
       "      <th>10119</th>\n",
       "      <td>1033050816205258753</td>\n",
       "      <td>Tribunal ratifica resultado de eleição preside...</td>\n",
       "      <td>Fri Aug 24 17:58:02 +0000 2018</td>\n",
       "      <td>Neutro</td>\n",
       "      <td>folha</td>\n",
       "    </tr>\n",
       "    <tr>\n",
       "      <th>7846</th>\n",
       "      <td>1032036076402237440</td>\n",
       "      <td>Moradores de Japeri, com três irmãos e filhos ...</td>\n",
       "      <td>Tue Aug 21 22:45:49 +0000 2018</td>\n",
       "      <td>Neutro</td>\n",
       "      <td>jornaloglobo</td>\n",
       "    </tr>\n",
       "    <tr>\n",
       "      <th>11097</th>\n",
       "      <td>1030021345751523328</td>\n",
       "      <td>Mega-Sena pode pagar R$ 7,5 milhões nesta quin...</td>\n",
       "      <td>Thu Aug 16 09:20:00 +0000 2018</td>\n",
       "      <td>Neutro</td>\n",
       "      <td>g1</td>\n",
       "    </tr>\n",
       "    <tr>\n",
       "      <th>24117</th>\n",
       "      <td>1042131489784299520</td>\n",
       "      <td>Guerra comercial EUA-China pode durar 20 anos,...</td>\n",
       "      <td>Tue Sep 18 19:21:23 +0000 2018</td>\n",
       "      <td>Neutro</td>\n",
       "      <td>exame</td>\n",
       "    </tr>\n",
       "  </tbody>\n",
       "</table>\n",
       "</div>"
      ],
      "text/plain": [
       "                        id                                         tweet_text  \\\n",
       "30470  1046774916778000389  Jovem é morto durante operação no Complexo do ...   \n",
       "10119  1033050816205258753  Tribunal ratifica resultado de eleição preside...   \n",
       "7846   1032036076402237440  Moradores de Japeri, com três irmãos e filhos ...   \n",
       "11097  1030021345751523328  Mega-Sena pode pagar R$ 7,5 milhões nesta quin...   \n",
       "24117  1042131489784299520  Guerra comercial EUA-China pode durar 20 anos,...   \n",
       "\n",
       "                           tweet_date sentiment    query_used  \n",
       "30470  Mon Oct 01 14:52:42 +0000 2018    Neutro            g1  \n",
       "10119  Fri Aug 24 17:58:02 +0000 2018    Neutro         folha  \n",
       "7846   Tue Aug 21 22:45:49 +0000 2018    Neutro  jornaloglobo  \n",
       "11097  Thu Aug 16 09:20:00 +0000 2018    Neutro            g1  \n",
       "24117  Tue Sep 18 19:21:23 +0000 2018    Neutro         exame  "
      ]
     },
     "execution_count": 11,
     "metadata": {},
     "output_type": "execute_result"
    }
   ],
   "source": [
    "print(len(tweets_neutral_news))\n",
    "tweets_neutral_news.sample(5)"
   ]
  },
  {
   "cell_type": "code",
   "execution_count": 12,
   "metadata": {},
   "outputs": [
    {
     "data": {
      "text/plain": [
       "array(['Neutro'], dtype=object)"
      ]
     },
     "execution_count": 12,
     "metadata": {},
     "output_type": "execute_result"
    }
   ],
   "source": [
    "tweets_neutral_news.sentiment.unique()"
   ]
  },
  {
   "cell_type": "code",
   "execution_count": 22,
   "metadata": {},
   "outputs": [
    {
     "data": {
      "image/png": "[encoded data removed]",
      "text/plain": [
       "<Figure size 432x288 with 1 Axes>"
      ]
     },
     "metadata": {
      "needs_background": "light"
     },
     "output_type": "display_data"
    }
   ],
   "source": [
    "series = tweets_neutral_news['query_used'].value_counts()\n",
    "ax = series.plot(kind='bar', title='')\n",
    "ax.set_xlabel('Hashtag')\n",
    "ax.set_ylabel('Quantidade')\n",
    "plt.show()"
   ]
  },
  {
   "cell_type": "markdown",
   "metadata": {},
   "source": [
    "## Arquivo TweetsNeutralHash.csv"
   ]
  },
  {
   "cell_type": "code",
   "execution_count": 13,
   "metadata": {},
   "outputs": [],
   "source": [
    "tweets_neutral_theme = pd.read_csv('../portuguese-tweets-for-sentiment-analysis/TweetsWithTheme.csv')"
   ]
  },
  {
   "cell_type": "code",
   "execution_count": 14,
   "metadata": {},
   "outputs": [
    {
     "name": "stdout",
     "output_type": "stream",
     "text": [
      "61591\n"
     ]
    },
    {
     "data": {
      "text/html": [
       "<div>\n",
       "<style scoped>\n",
       "    .dataframe tbody tr th:only-of-type {\n",
       "        vertical-align: middle;\n",
       "    }\n",
       "\n",
       "    .dataframe tbody tr th {\n",
       "        vertical-align: top;\n",
       "    }\n",
       "\n",
       "    .dataframe thead th {\n",
       "        text-align: right;\n",
       "    }\n",
       "</style>\n",
       "<table border=\"1\" class=\"dataframe\">\n",
       "  <thead>\n",
       "    <tr style=\"text-align: right;\">\n",
       "      <th></th>\n",
       "      <th>id</th>\n",
       "      <th>tweet_text</th>\n",
       "      <th>tweet_date</th>\n",
       "      <th>sentiment</th>\n",
       "      <th>query_used</th>\n",
       "    </tr>\n",
       "  </thead>\n",
       "  <tbody>\n",
       "    <tr>\n",
       "      <th>5187</th>\n",
       "      <td>1028403608268824582</td>\n",
       "      <td>pena q n tem a soundtrack de mulan em pt no sp...</td>\n",
       "      <td>Sat Aug 11 22:11:41 +0000 2018</td>\n",
       "      <td>Negativo</td>\n",
       "      <td>PT :(</td>\n",
       "    </tr>\n",
       "    <tr>\n",
       "      <th>42481</th>\n",
       "      <td>1049479799067037696</td>\n",
       "      <td>#AgoraÉHaddad Ta Mais Será Mesmo Que Tudo Isso...</td>\n",
       "      <td>Tue Oct 09 02:00:57 +0000 2018</td>\n",
       "      <td>Positivo</td>\n",
       "      <td>#AgoraÉHaddad :)</td>\n",
       "    </tr>\n",
       "    <tr>\n",
       "      <th>27571</th>\n",
       "      <td>1044415717741916160</td>\n",
       "      <td>Lula têm que pedir por \"bilete\" já que na cade...</td>\n",
       "      <td>Tue Sep 25 02:38:06 +0000 2018</td>\n",
       "      <td>Negativo</td>\n",
       "      <td>lula :(</td>\n",
       "    </tr>\n",
       "    <tr>\n",
       "      <th>158</th>\n",
       "      <td>1025571915598061574</td>\n",
       "      <td>Interessante a esquerda tuiteira criticando o ...</td>\n",
       "      <td>Sat Aug 04 02:39:33 +0000 2018</td>\n",
       "      <td>Positivo</td>\n",
       "      <td>bolsonaro :)</td>\n",
       "    </tr>\n",
       "    <tr>\n",
       "      <th>29810</th>\n",
       "      <td>1047551738423783425</td>\n",
       "      <td>@sarinhawigand As eleições estão logo ai né @s...</td>\n",
       "      <td>Wed Oct 03 18:19:31 +0000 2018</td>\n",
       "      <td>Positivo</td>\n",
       "      <td>candidato :)</td>\n",
       "    </tr>\n",
       "  </tbody>\n",
       "</table>\n",
       "</div>"
      ],
      "text/plain": [
       "                        id                                         tweet_text  \\\n",
       "5187   1028403608268824582  pena q n tem a soundtrack de mulan em pt no sp...   \n",
       "42481  1049479799067037696  #AgoraÉHaddad Ta Mais Será Mesmo Que Tudo Isso...   \n",
       "27571  1044415717741916160  Lula têm que pedir por \"bilete\" já que na cade...   \n",
       "158    1025571915598061574  Interessante a esquerda tuiteira criticando o ...   \n",
       "29810  1047551738423783425  @sarinhawigand As eleições estão logo ai né @s...   \n",
       "\n",
       "                           tweet_date sentiment        query_used  \n",
       "5187   Sat Aug 11 22:11:41 +0000 2018  Negativo             PT :(  \n",
       "42481  Tue Oct 09 02:00:57 +0000 2018  Positivo  #AgoraÉHaddad :)  \n",
       "27571  Tue Sep 25 02:38:06 +0000 2018  Negativo           lula :(  \n",
       "158    Sat Aug 04 02:39:33 +0000 2018  Positivo      bolsonaro :)  \n",
       "29810  Wed Oct 03 18:19:31 +0000 2018  Positivo      candidato :)  "
      ]
     },
     "execution_count": 14,
     "metadata": {},
     "output_type": "execute_result"
    }
   ],
   "source": [
    "print(len(tweets_neutral_theme))\n",
    "tweets_neutral_theme.sample(5)"
   ]
  },
  {
   "cell_type": "code",
   "execution_count": 15,
   "metadata": {},
   "outputs": [
    {
     "data": {
      "text/plain": [
       "array(['Negativo', 'Positivo'], dtype=object)"
      ]
     },
     "execution_count": 15,
     "metadata": {},
     "output_type": "execute_result"
    }
   ],
   "source": [
    "tweets_neutral_theme.sentiment.unique()"
   ]
  },
  {
   "cell_type": "code",
   "execution_count": 18,
   "metadata": {},
   "outputs": [
    {
     "data": {
      "image/png": "[encoded data removed]",
      "text/plain": [
       "<Figure size 432x288 with 1 Axes>"
      ]
     },
     "metadata": {
      "needs_background": "light"
     },
     "output_type": "display_data"
    }
   ],
   "source": [
    "series = tweets_neutral_theme['sentiment'].value_counts()\n",
    "ax = series.plot(kind='bar', title='')\n",
    "ax.set_xlabel('Sentimento')\n",
    "ax.set_ylabel('Quantidade')\n",
    "plt.show()"
   ]
  },
  {
   "cell_type": "code",
   "execution_count": 17,
   "metadata": {},
   "outputs": [
    {
     "name": "stdout",
     "output_type": "stream",
     "text": [
      "Positivo = 53.163612% \n",
      "Negativo = 46.836388% \n"
     ]
    }
   ],
   "source": [
    "series = tweets_neutral_theme['sentiment'].value_counts()\n",
    "por_neg = (series.Negativo / ( series.Negativo + series.Positivo )) * 100\n",
    "por_pos = (series.Positivo / ( series.Negativo + series.Positivo )) * 100\n",
    "print(\"Positivo = %f%% \\nNegativo = %f%% \" % (por_pos,por_neg))"
   ]
  },
  {
   "cell_type": "markdown",
   "metadata": {},
   "source": [
    "# Pasta de TESTE"
   ]
  },
  {
   "cell_type": "code",
   "execution_count": null,
   "metadata": {},
   "outputs": [],
   "source": []
  }
 ],
 "metadata": {
  "kernelspec": {
   "display_name": "Python 3",
   "language": "python",
   "name": "python3"
  },
  "language_info": {
   "codemirror_mode": {
    "name": "ipython",
    "version": 3
   },
   "file_extension": ".py",
   "mimetype": "text/x-python",
   "name": "python",
   "nbconvert_exporter": "python",
   "pygments_lexer": "ipython3",
   "version": "3.7.3"
  }
 },
 "nbformat": 4,
 "nbformat_minor": 2
}
