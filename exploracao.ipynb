{
 "cells": [
  {
   "cell_type": "code",
   "execution_count": 1,
   "metadata": {},
   "outputs": [],
   "source": [
    "import pandas as pd\n",
    "import matplotlib.pyplot as plt"
   ]
  },
  {
   "cell_type": "markdown",
   "metadata": {},
   "source": [
    "## Arquivo NoThemeTweets.csv"
   ]
  },
  {
   "cell_type": "code",
   "execution_count": 2,
   "metadata": {},
   "outputs": [],
   "source": [
    "no_theme_tweets = pd.read_csv('../portuguese-tweets-for-sentiment-analysis/NoThemeTweets.csv')"
   ]
  },
  {
   "cell_type": "code",
   "execution_count": 3,
   "metadata": {},
   "outputs": [
    {
     "name": "stdout",
     "output_type": "stream",
     "text": [
      "785814\n"
     ]
    },
    {
     "data": {
      "text/html": [
       "<div>\n",
       "<style scoped>\n",
       "    .dataframe tbody tr th:only-of-type {\n",
       "        vertical-align: middle;\n",
       "    }\n",
       "\n",
       "    .dataframe tbody tr th {\n",
       "        vertical-align: top;\n",
       "    }\n",
       "\n",
       "    .dataframe thead th {\n",
       "        text-align: right;\n",
       "    }\n",
       "</style>\n",
       "<table border=\"1\" class=\"dataframe\">\n",
       "  <thead>\n",
       "    <tr style=\"text-align: right;\">\n",
       "      <th></th>\n",
       "      <th>id</th>\n",
       "      <th>tweet_text</th>\n",
       "      <th>tweet_date</th>\n",
       "      <th>sentiment</th>\n",
       "      <th>query_used</th>\n",
       "    </tr>\n",
       "  </thead>\n",
       "  <tbody>\n",
       "    <tr>\n",
       "      <th>71018</th>\n",
       "      <td>1031879025197830144</td>\n",
       "      <td>@harrybrlght aaa queria roaring 20s :( mas hig...</td>\n",
       "      <td>Tue Aug 21 12:21:45 +0000 2018</td>\n",
       "      <td>Negativo</td>\n",
       "      <td>:(</td>\n",
       "    </tr>\n",
       "    <tr>\n",
       "      <th>408848</th>\n",
       "      <td>1039283975276179462</td>\n",
       "      <td>@eroticamila_ Eu sei que sim, fui amada e mima...</td>\n",
       "      <td>Mon Sep 10 22:46:23 +0000 2018</td>\n",
       "      <td>Negativo</td>\n",
       "      <td>:(</td>\n",
       "    </tr>\n",
       "    <tr>\n",
       "      <th>655857</th>\n",
       "      <td>1044311181673025537</td>\n",
       "      <td>criei um vsco :)</td>\n",
       "      <td>Mon Sep 24 19:42:42 +0000 2018</td>\n",
       "      <td>Positivo</td>\n",
       "      <td>:)</td>\n",
       "    </tr>\n",
       "    <tr>\n",
       "      <th>183104</th>\n",
       "      <td>1031938557840109568</td>\n",
       "      <td>@091GXNG Olá, oppa!! Eu me derreto todinha com...</td>\n",
       "      <td>Tue Aug 21 16:18:19 +0000 2018</td>\n",
       "      <td>Negativo</td>\n",
       "      <td>:(</td>\n",
       "    </tr>\n",
       "    <tr>\n",
       "      <th>261640</th>\n",
       "      <td>1036628850850058242</td>\n",
       "      <td>@elpaisuy Linda historia :)</td>\n",
       "      <td>Mon Sep 03 14:55:52 +0000 2018</td>\n",
       "      <td>Positivo</td>\n",
       "      <td>:)</td>\n",
       "    </tr>\n",
       "  </tbody>\n",
       "</table>\n",
       "</div>"
      ],
      "text/plain": [
       "                         id  \\\n",
       "71018   1031879025197830144   \n",
       "408848  1039283975276179462   \n",
       "655857  1044311181673025537   \n",
       "183104  1031938557840109568   \n",
       "261640  1036628850850058242   \n",
       "\n",
       "                                               tweet_text  \\\n",
       "71018   @harrybrlght aaa queria roaring 20s :( mas hig...   \n",
       "408848  @eroticamila_ Eu sei que sim, fui amada e mima...   \n",
       "655857                                   criei um vsco :)   \n",
       "183104  @091GXNG Olá, oppa!! Eu me derreto todinha com...   \n",
       "261640                        @elpaisuy Linda historia :)   \n",
       "\n",
       "                            tweet_date sentiment query_used  \n",
       "71018   Tue Aug 21 12:21:45 +0000 2018  Negativo         :(  \n",
       "408848  Mon Sep 10 22:46:23 +0000 2018  Negativo         :(  \n",
       "655857  Mon Sep 24 19:42:42 +0000 2018  Positivo         :)  \n",
       "183104  Tue Aug 21 16:18:19 +0000 2018  Negativo         :(  \n",
       "261640  Mon Sep 03 14:55:52 +0000 2018  Positivo         :)  "
      ]
     },
     "execution_count": 3,
     "metadata": {},
     "output_type": "execute_result"
    }
   ],
   "source": [
    "print(len(no_theme_tweets))\n",
    "no_theme_tweets.sample(5)"
   ]
  },
  {
   "cell_type": "code",
   "execution_count": 4,
   "metadata": {},
   "outputs": [
    {
     "data": {
      "text/plain": [
       "array(['Positivo', 'Negativo'], dtype=object)"
      ]
     },
     "execution_count": 4,
     "metadata": {},
     "output_type": "execute_result"
    }
   ],
   "source": [
    "no_theme_tweets.sentiment.unique()"
   ]
  },
  {
   "cell_type": "code",
   "execution_count": 5,
   "metadata": {},
   "outputs": [
    {
     "data": {
      "image/png": "[encoded data removed]",
      "text/plain": [
       "<Figure size 432x288 with 1 Axes>"
      ]
     },
     "metadata": {
      "needs_background": "light"
     },
     "output_type": "display_data"
    }
   ],
   "source": [
    "series = no_theme_tweets['sentiment'].value_counts()\n",
    "ax = series.plot(kind='bar', title='')\n",
    "ax.set_xlabel('Sentimento')\n",
    "ax.set_ylabel('Quantidade')\n",
    "plt.show()"
   ]
  },
  {
   "cell_type": "code",
   "execution_count": 6,
   "metadata": {},
   "outputs": [
    {
     "name": "stdout",
     "output_type": "stream",
     "text": [
      "Positivo = 33.482096% \n",
      "Negativo = 66.517904% \n"
     ]
    }
   ],
   "source": [
    "series = no_theme_tweets['sentiment'].value_counts()\n",
    "por_neg = (series.Negativo / ( series.Negativo + series.Positivo )) * 100\n",
    "por_pos = (series.Positivo / ( series.Negativo + series.Positivo )) * 100\n",
    "print(\"Positivo = %f%% \\nNegativo = %f%% \" % (por_pos,por_neg))"
   ]
  },
  {
   "cell_type": "markdown",
   "metadata": {},
   "source": [
    "## Arquivo TweetsNeutralHash.csv"
   ]
  },
  {
   "cell_type": "code",
   "execution_count": 7,
   "metadata": {},
   "outputs": [],
   "source": [
    "tweets_neutral_hash = pd.read_csv('../portuguese-tweets-for-sentiment-analysis/TweetsNeutralHash.csv')"
   ]
  },
  {
   "cell_type": "code",
   "execution_count": 8,
   "metadata": {},
   "outputs": [
    {
     "name": "stdout",
     "output_type": "stream",
     "text": [
      "15727\n"
     ]
    },
    {
     "data": {
      "text/html": [
       "<div>\n",
       "<style scoped>\n",
       "    .dataframe tbody tr th:only-of-type {\n",
       "        vertical-align: middle;\n",
       "    }\n",
       "\n",
       "    .dataframe tbody tr th {\n",
       "        vertical-align: top;\n",
       "    }\n",
       "\n",
       "    .dataframe thead th {\n",
       "        text-align: right;\n",
       "    }\n",
       "</style>\n",
       "<table border=\"1\" class=\"dataframe\">\n",
       "  <thead>\n",
       "    <tr style=\"text-align: right;\">\n",
       "      <th></th>\n",
       "      <th>id</th>\n",
       "      <th>tweet_text</th>\n",
       "      <th>tweet_date</th>\n",
       "      <th>sentiment</th>\n",
       "      <th>query_used</th>\n",
       "    </tr>\n",
       "  </thead>\n",
       "  <tbody>\n",
       "    <tr>\n",
       "      <th>14814</th>\n",
       "      <td>1053306743256768517</td>\n",
       "      <td>\" O circo só pega fogo quando você da confianç...</td>\n",
       "      <td>Fri Oct 19 15:27:51 +0000 2018</td>\n",
       "      <td>Neutro</td>\n",
       "      <td>#fato</td>\n",
       "    </tr>\n",
       "    <tr>\n",
       "      <th>5822</th>\n",
       "      <td>1032311935872708609</td>\n",
       "      <td>\"Bolsonaro lidera entre os mais ricos\" diz o j...</td>\n",
       "      <td>Wed Aug 22 17:01:59 +0000 2018</td>\n",
       "      <td>Neutro</td>\n",
       "      <td>#fato</td>\n",
       "    </tr>\n",
       "    <tr>\n",
       "      <th>12085</th>\n",
       "      <td>1039990969809002497</td>\n",
       "      <td>#oportunidade Lançado o edital do processo sel...</td>\n",
       "      <td>Wed Sep 12 21:35:43 +0000 2018</td>\n",
       "      <td>Neutro</td>\n",
       "      <td>#oportunidade</td>\n",
       "    </tr>\n",
       "    <tr>\n",
       "      <th>1137</th>\n",
       "      <td>1025029140620161024</td>\n",
       "      <td>Veja o que é #FATO ou #FAKE na entrevista de C...</td>\n",
       "      <td>Thu Aug 02 14:42:45 +0000 2018</td>\n",
       "      <td>Neutro</td>\n",
       "      <td>#fato</td>\n",
       "    </tr>\n",
       "    <tr>\n",
       "      <th>4390</th>\n",
       "      <td>1030437084039983104</td>\n",
       "      <td>@qoctnt @lindberghfarias Na verdade o que eles...</td>\n",
       "      <td>Fri Aug 17 12:52:00 +0000 2018</td>\n",
       "      <td>Neutro</td>\n",
       "      <td>#fato</td>\n",
       "    </tr>\n",
       "  </tbody>\n",
       "</table>\n",
       "</div>"
      ],
      "text/plain": [
       "                        id                                         tweet_text  \\\n",
       "14814  1053306743256768517  \" O circo só pega fogo quando você da confianç...   \n",
       "5822   1032311935872708609  \"Bolsonaro lidera entre os mais ricos\" diz o j...   \n",
       "12085  1039990969809002497  #oportunidade Lançado o edital do processo sel...   \n",
       "1137   1025029140620161024  Veja o que é #FATO ou #FAKE na entrevista de C...   \n",
       "4390   1030437084039983104  @qoctnt @lindberghfarias Na verdade o que eles...   \n",
       "\n",
       "                           tweet_date sentiment     query_used  \n",
       "14814  Fri Oct 19 15:27:51 +0000 2018    Neutro          #fato  \n",
       "5822   Wed Aug 22 17:01:59 +0000 2018    Neutro          #fato  \n",
       "12085  Wed Sep 12 21:35:43 +0000 2018    Neutro  #oportunidade  \n",
       "1137   Thu Aug 02 14:42:45 +0000 2018    Neutro          #fato  \n",
       "4390   Fri Aug 17 12:52:00 +0000 2018    Neutro          #fato  "
      ]
     },
     "execution_count": 8,
     "metadata": {},
     "output_type": "execute_result"
    }
   ],
   "source": [
    "print(len(tweets_neutral_hash))\n",
    "tweets_neutral_hash.sample(5)"
   ]
  },
  {
   "cell_type": "code",
   "execution_count": 9,
   "metadata": {},
   "outputs": [
    {
     "data": {
      "text/plain": [
       "array(['Neutro'], dtype=object)"
      ]
     },
     "execution_count": 9,
     "metadata": {},
     "output_type": "execute_result"
    }
   ],
   "source": [
    "tweets_neutral_hash.sentiment.unique()"
   ]
  },
  {
   "cell_type": "code",
   "execution_count": 10,
   "metadata": {},
   "outputs": [
    {
     "data": {
      "image/png": "[encoded data removed]",
      "text/plain": [
       "<Figure size 432x288 with 1 Axes>"
      ]
     },
     "metadata": {
      "needs_background": "light"
     },
     "output_type": "display_data"
    }
   ],
   "source": [
    "series = tweets_neutral_hash['query_used'].value_counts()\n",
    "ax = series.plot(kind='bar', title='')\n",
    "ax.set_xlabel('Hashtag')\n",
    "ax.set_ylabel('Quantidade')\n",
    "plt.show()"
   ]
  },
  {
   "cell_type": "markdown",
   "metadata": {},
   "source": [
    "## Arquivo TweetsNeutralNews.csv"
   ]
  },
  {
   "cell_type": "code",
   "execution_count": 11,
   "metadata": {},
   "outputs": [],
   "source": [
    "tweets_neutral_news = pd.read_csv('../portuguese-tweets-for-sentiment-analysis/TweetsNeutralNews.csv')"
   ]
  },
  {
   "cell_type": "code",
   "execution_count": 12,
   "metadata": {},
   "outputs": [
    {
     "name": "stdout",
     "output_type": "stream",
     "text": [
      "37556\n"
     ]
    },
    {
     "data": {
      "text/html": [
       "<div>\n",
       "<style scoped>\n",
       "    .dataframe tbody tr th:only-of-type {\n",
       "        vertical-align: middle;\n",
       "    }\n",
       "\n",
       "    .dataframe tbody tr th {\n",
       "        vertical-align: top;\n",
       "    }\n",
       "\n",
       "    .dataframe thead th {\n",
       "        text-align: right;\n",
       "    }\n",
       "</style>\n",
       "<table border=\"1\" class=\"dataframe\">\n",
       "  <thead>\n",
       "    <tr style=\"text-align: right;\">\n",
       "      <th></th>\n",
       "      <th>id</th>\n",
       "      <th>tweet_text</th>\n",
       "      <th>tweet_date</th>\n",
       "      <th>sentiment</th>\n",
       "      <th>query_used</th>\n",
       "    </tr>\n",
       "  </thead>\n",
       "  <tbody>\n",
       "    <tr>\n",
       "      <th>8272</th>\n",
       "      <td>1031835804203540480</td>\n",
       "      <td>Veja vagas para estágio e trainee com inscriçõ...</td>\n",
       "      <td>Tue Aug 21 09:30:00 +0000 2018</td>\n",
       "      <td>Neutro</td>\n",
       "      <td>jornaloglobo</td>\n",
       "    </tr>\n",
       "    <tr>\n",
       "      <th>20742</th>\n",
       "      <td>1039589405823000576</td>\n",
       "      <td>Barroso encaminha à PGR pedido de prorrogação ...</td>\n",
       "      <td>Tue Sep 11 19:00:03 +0000 2018</td>\n",
       "      <td>Neutro</td>\n",
       "      <td>jornaloglobo</td>\n",
       "    </tr>\n",
       "    <tr>\n",
       "      <th>336</th>\n",
       "      <td>1036940177263026183</td>\n",
       "      <td>Lava Jato investiga fraudes na exportação de p...</td>\n",
       "      <td>Tue Sep 04 11:32:58 +0000 2018</td>\n",
       "      <td>Neutro</td>\n",
       "      <td>veja</td>\n",
       "    </tr>\n",
       "    <tr>\n",
       "      <th>10285</th>\n",
       "      <td>1029165707433406464</td>\n",
       "      <td>Pai de Meghan Markle diz a jornal que teme não...</td>\n",
       "      <td>Tue Aug 14 00:40:00 +0000 2018</td>\n",
       "      <td>Neutro</td>\n",
       "      <td>jornaloglobo</td>\n",
       "    </tr>\n",
       "    <tr>\n",
       "      <th>30365</th>\n",
       "      <td>1046266899024228352</td>\n",
       "      <td>Após empates na capital, Santos joga contra o ...</td>\n",
       "      <td>Sun Sep 30 05:14:02 +0000 2018</td>\n",
       "      <td>Neutro</td>\n",
       "      <td>folha</td>\n",
       "    </tr>\n",
       "  </tbody>\n",
       "</table>\n",
       "</div>"
      ],
      "text/plain": [
       "                        id                                         tweet_text  \\\n",
       "8272   1031835804203540480  Veja vagas para estágio e trainee com inscriçõ...   \n",
       "20742  1039589405823000576  Barroso encaminha à PGR pedido de prorrogação ...   \n",
       "336    1036940177263026183  Lava Jato investiga fraudes na exportação de p...   \n",
       "10285  1029165707433406464  Pai de Meghan Markle diz a jornal que teme não...   \n",
       "30365  1046266899024228352  Após empates na capital, Santos joga contra o ...   \n",
       "\n",
       "                           tweet_date sentiment    query_used  \n",
       "8272   Tue Aug 21 09:30:00 +0000 2018    Neutro  jornaloglobo  \n",
       "20742  Tue Sep 11 19:00:03 +0000 2018    Neutro  jornaloglobo  \n",
       "336    Tue Sep 04 11:32:58 +0000 2018    Neutro          veja  \n",
       "10285  Tue Aug 14 00:40:00 +0000 2018    Neutro  jornaloglobo  \n",
       "30365  Sun Sep 30 05:14:02 +0000 2018    Neutro         folha  "
      ]
     },
     "execution_count": 12,
     "metadata": {},
     "output_type": "execute_result"
    }
   ],
   "source": [
    "print(len(tweets_neutral_news))\n",
    "tweets_neutral_news.sample(5)"
   ]
  },
  {
   "cell_type": "code",
   "execution_count": 13,
   "metadata": {},
   "outputs": [
    {
     "data": {
      "text/plain": [
       "array(['Neutro'], dtype=object)"
      ]
     },
     "execution_count": 13,
     "metadata": {},
     "output_type": "execute_result"
    }
   ],
   "source": [
    "tweets_neutral_news.sentiment.unique()"
   ]
  },
  {
   "cell_type": "code",
   "execution_count": 14,
   "metadata": {},
   "outputs": [
    {
     "data": {
      "image/png": "[encoded data removed]",
      "text/plain": [
       "<Figure size 432x288 with 1 Axes>"
      ]
     },
     "metadata": {
      "needs_background": "light"
     },
     "output_type": "display_data"
    }
   ],
   "source": [
    "series = tweets_neutral_news['query_used'].value_counts()\n",
    "ax = series.plot(kind='bar', title='')\n",
    "ax.set_xlabel('Hashtag')\n",
    "ax.set_ylabel('Quantidade')\n",
    "plt.show()"
   ]
  },
  {
   "cell_type": "markdown",
   "metadata": {},
   "source": [
    "## Arquivo TweetsNeutralHash.csv"
   ]
  },
  {
   "cell_type": "code",
   "execution_count": 15,
   "metadata": {},
   "outputs": [],
   "source": [
    "tweets_neutral_theme = pd.read_csv('../portuguese-tweets-for-sentiment-analysis/TweetsWithTheme.csv')"
   ]
  },
  {
   "cell_type": "code",
   "execution_count": 16,
   "metadata": {},
   "outputs": [
    {
     "name": "stdout",
     "output_type": "stream",
     "text": [
      "61591\n"
     ]
    },
    {
     "data": {
      "text/html": [
       "<div>\n",
       "<style scoped>\n",
       "    .dataframe tbody tr th:only-of-type {\n",
       "        vertical-align: middle;\n",
       "    }\n",
       "\n",
       "    .dataframe tbody tr th {\n",
       "        vertical-align: top;\n",
       "    }\n",
       "\n",
       "    .dataframe thead th {\n",
       "        text-align: right;\n",
       "    }\n",
       "</style>\n",
       "<table border=\"1\" class=\"dataframe\">\n",
       "  <thead>\n",
       "    <tr style=\"text-align: right;\">\n",
       "      <th></th>\n",
       "      <th>id</th>\n",
       "      <th>tweet_text</th>\n",
       "      <th>tweet_date</th>\n",
       "      <th>sentiment</th>\n",
       "      <th>query_used</th>\n",
       "    </tr>\n",
       "  </thead>\n",
       "  <tbody>\n",
       "    <tr>\n",
       "      <th>8527</th>\n",
       "      <td>1034933018274799616</td>\n",
       "      <td>@Gleberson_SEP 1) eu realmente pedi pq eu não ...</td>\n",
       "      <td>Wed Aug 29 22:37:14 +0000 2018</td>\n",
       "      <td>Positivo</td>\n",
       "      <td>politica :)</td>\n",
       "    </tr>\n",
       "    <tr>\n",
       "      <th>30518</th>\n",
       "      <td>1048020898886963200</td>\n",
       "      <td>ai boulos tão REI pena que não tem chance nenh...</td>\n",
       "      <td>Fri Oct 05 01:23:48 +0000 2018</td>\n",
       "      <td>Negativo</td>\n",
       "      <td>boulos :(</td>\n",
       "    </tr>\n",
       "    <tr>\n",
       "      <th>44014</th>\n",
       "      <td>1050025308517224453</td>\n",
       "      <td>@GDimenstein Quando tinha 11 anos minha mãe me...</td>\n",
       "      <td>Wed Oct 10 14:08:36 +0000 2018</td>\n",
       "      <td>Negativo</td>\n",
       "      <td>bolsonaro :(</td>\n",
       "    </tr>\n",
       "    <tr>\n",
       "      <th>4082</th>\n",
       "      <td>1028008441141506049</td>\n",
       "      <td>@rvianna No debate paralelo na internet, Hadda...</td>\n",
       "      <td>Fri Aug 10 20:01:26 +0000 2018</td>\n",
       "      <td>Positivo</td>\n",
       "      <td>haddad :)</td>\n",
       "    </tr>\n",
       "    <tr>\n",
       "      <th>7415</th>\n",
       "      <td>1033210908477140992</td>\n",
       "      <td>Como eu não posso ver um mundo passando na rua...</td>\n",
       "      <td>Sat Aug 25 04:34:11 +0000 2018</td>\n",
       "      <td>Positivo</td>\n",
       "      <td>politica :)</td>\n",
       "    </tr>\n",
       "  </tbody>\n",
       "</table>\n",
       "</div>"
      ],
      "text/plain": [
       "                        id                                         tweet_text  \\\n",
       "8527   1034933018274799616  @Gleberson_SEP 1) eu realmente pedi pq eu não ...   \n",
       "30518  1048020898886963200  ai boulos tão REI pena que não tem chance nenh...   \n",
       "44014  1050025308517224453  @GDimenstein Quando tinha 11 anos minha mãe me...   \n",
       "4082   1028008441141506049  @rvianna No debate paralelo na internet, Hadda...   \n",
       "7415   1033210908477140992  Como eu não posso ver um mundo passando na rua...   \n",
       "\n",
       "                           tweet_date sentiment    query_used  \n",
       "8527   Wed Aug 29 22:37:14 +0000 2018  Positivo   politica :)  \n",
       "30518  Fri Oct 05 01:23:48 +0000 2018  Negativo     boulos :(  \n",
       "44014  Wed Oct 10 14:08:36 +0000 2018  Negativo  bolsonaro :(  \n",
       "4082   Fri Aug 10 20:01:26 +0000 2018  Positivo     haddad :)  \n",
       "7415   Sat Aug 25 04:34:11 +0000 2018  Positivo   politica :)  "
      ]
     },
     "execution_count": 16,
     "metadata": {},
     "output_type": "execute_result"
    }
   ],
   "source": [
    "print(len(tweets_neutral_theme))\n",
    "tweets_neutral_theme.sample(5)"
   ]
  },
  {
   "cell_type": "code",
   "execution_count": 17,
   "metadata": {},
   "outputs": [
    {
     "data": {
      "text/plain": [
       "array(['Negativo', 'Positivo'], dtype=object)"
      ]
     },
     "execution_count": 17,
     "metadata": {},
     "output_type": "execute_result"
    }
   ],
   "source": [
    "tweets_neutral_theme.sentiment.unique()"
   ]
  },
  {
   "cell_type": "code",
   "execution_count": 18,
   "metadata": {},
   "outputs": [
    {
     "data": {
      "image/png": "[encoded data removed]",
      "text/plain": [
       "<Figure size 432x288 with 1 Axes>"
      ]
     },
     "metadata": {
      "needs_background": "light"
     },
     "output_type": "display_data"
    }
   ],
   "source": [
    "series = tweets_neutral_theme['sentiment'].value_counts()\n",
    "ax = series.plot(kind='bar', title='')\n",
    "ax.set_xlabel('Sentimento')\n",
    "ax.set_ylabel('Quantidade')\n",
    "plt.show()"
   ]
  },
  {
   "cell_type": "code",
   "execution_count": 19,
   "metadata": {},
   "outputs": [
    {
     "name": "stdout",
     "output_type": "stream",
     "text": [
      "Positivo = 53.163612% \n",
      "Negativo = 46.836388% \n"
     ]
    }
   ],
   "source": [
    "series = tweets_neutral_theme['sentiment'].value_counts()\n",
    "por_neg = (series.Negativo / ( series.Negativo + series.Positivo )) * 100\n",
    "por_pos = (series.Positivo / ( series.Negativo + series.Positivo )) * 100\n",
    "print(\"Positivo = %f%% \\nNegativo = %f%% \" % (por_pos,por_neg))"
   ]
  },
  {
   "cell_type": "markdown",
   "metadata": {},
   "source": [
    "# Pasta de testdatasets"
   ]
  },
  {
   "cell_type": "markdown",
   "metadata": {},
   "source": [
    "## Arquivo Tests.csv"
   ]
  },
  {
   "cell_type": "code",
   "execution_count": 20,
   "metadata": {},
   "outputs": [],
   "source": [
    "tests = pd.read_csv('../portuguese-tweets-for-sentiment-analysis/testdatasets/Test.csv',delimiter=';')"
   ]
  },
  {
   "cell_type": "code",
   "execution_count": 21,
   "metadata": {},
   "outputs": [
    {
     "name": "stdout",
     "output_type": "stream",
     "text": [
      "5000\n"
     ]
    },
    {
     "data": {
      "text/html": [
       "<div>\n",
       "<style scoped>\n",
       "    .dataframe tbody tr th:only-of-type {\n",
       "        vertical-align: middle;\n",
       "    }\n",
       "\n",
       "    .dataframe tbody tr th {\n",
       "        vertical-align: top;\n",
       "    }\n",
       "\n",
       "    .dataframe thead th {\n",
       "        text-align: right;\n",
       "    }\n",
       "</style>\n",
       "<table border=\"1\" class=\"dataframe\">\n",
       "  <thead>\n",
       "    <tr style=\"text-align: right;\">\n",
       "      <th></th>\n",
       "      <th>id</th>\n",
       "      <th>tweet_text</th>\n",
       "      <th>tweet_date</th>\n",
       "      <th>sentiment</th>\n",
       "      <th>query_used</th>\n",
       "    </tr>\n",
       "  </thead>\n",
       "  <tbody>\n",
       "    <tr>\n",
       "      <th>2307</th>\n",
       "      <td>1029647023811772416</td>\n",
       "      <td>@JosHenriqueGuer @lpmpessoal @Sporting_CP Envi...</td>\n",
       "      <td>Wed Aug 15 08:32:35 +0000 2018</td>\n",
       "      <td>1</td>\n",
       "      <td>:)</td>\n",
       "    </tr>\n",
       "    <tr>\n",
       "      <th>1961</th>\n",
       "      <td>1029594864323887104</td>\n",
       "      <td>Porque és uma pessoa boa :) https://t.co/hFQ7W...</td>\n",
       "      <td>Wed Aug 15 05:05:19 +0000 2018</td>\n",
       "      <td>1</td>\n",
       "      <td>:)</td>\n",
       "    </tr>\n",
       "    <tr>\n",
       "      <th>3626</th>\n",
       "      <td>1030509030630981633</td>\n",
       "      <td>comi um misto quente e ainda to com fome :((</td>\n",
       "      <td>Fri Aug 17 17:37:53 +0000 2018</td>\n",
       "      <td>0</td>\n",
       "      <td>:(</td>\n",
       "    </tr>\n",
       "    <tr>\n",
       "      <th>1633</th>\n",
       "      <td>1029574963282493440</td>\n",
       "      <td>Descreva-se com 5 palavras. — sou um monte de ...</td>\n",
       "      <td>Wed Aug 15 03:46:14 +0000 2018</td>\n",
       "      <td>1</td>\n",
       "      <td>:)</td>\n",
       "    </tr>\n",
       "    <tr>\n",
       "      <th>1308</th>\n",
       "      <td>1029564887092146177</td>\n",
       "      <td>@harosset O bom é que ficou mais rapido e mais...</td>\n",
       "      <td>Wed Aug 15 03:06:12 +0000 2018</td>\n",
       "      <td>1</td>\n",
       "      <td>:)</td>\n",
       "    </tr>\n",
       "  </tbody>\n",
       "</table>\n",
       "</div>"
      ],
      "text/plain": [
       "                       id                                         tweet_text  \\\n",
       "2307  1029647023811772416  @JosHenriqueGuer @lpmpessoal @Sporting_CP Envi...   \n",
       "1961  1029594864323887104  Porque és uma pessoa boa :) https://t.co/hFQ7W...   \n",
       "3626  1030509030630981633       comi um misto quente e ainda to com fome :((   \n",
       "1633  1029574963282493440  Descreva-se com 5 palavras. — sou um monte de ...   \n",
       "1308  1029564887092146177  @harosset O bom é que ficou mais rapido e mais...   \n",
       "\n",
       "                          tweet_date  sentiment query_used  \n",
       "2307  Wed Aug 15 08:32:35 +0000 2018          1         :)  \n",
       "1961  Wed Aug 15 05:05:19 +0000 2018          1         :)  \n",
       "3626  Fri Aug 17 17:37:53 +0000 2018          0         :(  \n",
       "1633  Wed Aug 15 03:46:14 +0000 2018          1         :)  \n",
       "1308  Wed Aug 15 03:06:12 +0000 2018          1         :)  "
      ]
     },
     "execution_count": 21,
     "metadata": {},
     "output_type": "execute_result"
    }
   ],
   "source": [
    "print(len(tests))\n",
    "tests.sample(5)"
   ]
  },
  {
   "cell_type": "code",
   "execution_count": 22,
   "metadata": {},
   "outputs": [
    {
     "name": "stdout",
     "output_type": "stream",
     "text": [
      "[1 0]\n"
     ]
    }
   ],
   "source": [
    "print(tests.sentiment.unique())"
   ]
  },
  {
   "cell_type": "code",
   "execution_count": 23,
   "metadata": {},
   "outputs": [
    {
     "data": {
      "image/png": "[encoded data removed]",
      "text/plain": [
       "<Figure size 432x288 with 1 Axes>"
      ]
     },
     "metadata": {
      "needs_background": "light"
     },
     "output_type": "display_data"
    }
   ],
   "source": [
    "series = tests['sentiment'].value_counts()\n",
    "ax = series.plot(kind='bar', title='')\n",
    "ax.set_xlabel('Sentimento')\n",
    "ax.set_ylabel('Quantidade')\n",
    "plt.show()"
   ]
  },
  {
   "cell_type": "code",
   "execution_count": 24,
   "metadata": {},
   "outputs": [
    {
     "name": "stdout",
     "output_type": "stream",
     "text": [
      "Positivo = 50.000000% \n",
      "Negativo = 50.000000% \n"
     ]
    }
   ],
   "source": [
    "series = tests['sentiment'].value_counts()\n",
    "por_neg = (series[0]/ ( series[0]+ series[1] )) * 100\n",
    "por_pos = (series[1] / ( series[0] + series[1] )) * 100\n",
    "print(\"Positivo = %f%% \\nNegativo = %f%% \" % (por_pos,por_neg))"
   ]
  },
  {
   "cell_type": "markdown",
   "metadata": {},
   "source": [
    "## Arquivo Test3classes.csv"
   ]
  },
  {
   "cell_type": "code",
   "execution_count": 25,
   "metadata": {},
   "outputs": [],
   "source": [
    "test3classes = pd.read_csv('../portuguese-tweets-for-sentiment-analysis/testdatasets/Test3classes.csv',delimiter=';')"
   ]
  },
  {
   "cell_type": "code",
   "execution_count": 26,
   "metadata": {},
   "outputs": [
    {
     "name": "stdout",
     "output_type": "stream",
     "text": [
      "4999\n"
     ]
    },
    {
     "data": {
      "text/html": [
       "<div>\n",
       "<style scoped>\n",
       "    .dataframe tbody tr th:only-of-type {\n",
       "        vertical-align: middle;\n",
       "    }\n",
       "\n",
       "    .dataframe tbody tr th {\n",
       "        vertical-align: top;\n",
       "    }\n",
       "\n",
       "    .dataframe thead th {\n",
       "        text-align: right;\n",
       "    }\n",
       "</style>\n",
       "<table border=\"1\" class=\"dataframe\">\n",
       "  <thead>\n",
       "    <tr style=\"text-align: right;\">\n",
       "      <th></th>\n",
       "      <th>id</th>\n",
       "      <th>tweet_text</th>\n",
       "      <th>tweet_date</th>\n",
       "      <th>sentiment</th>\n",
       "      <th>query_used</th>\n",
       "    </tr>\n",
       "  </thead>\n",
       "  <tbody>\n",
       "    <tr>\n",
       "      <th>2796</th>\n",
       "      <td>1030509062537003009</td>\n",
       "      <td>ai cara sabe queria dar todo o amor do mundo p...</td>\n",
       "      <td>Fri Aug 17 17:38:01 +0000 2018</td>\n",
       "      <td>0</td>\n",
       "      <td>:(</td>\n",
       "    </tr>\n",
       "    <tr>\n",
       "      <th>2775</th>\n",
       "      <td>1030508813198209024</td>\n",
       "      <td>eu tenho orgulho demais por tudo o que ela con...</td>\n",
       "      <td>Fri Aug 17 17:37:01 +0000 2018</td>\n",
       "      <td>0</td>\n",
       "      <td>:(</td>\n",
       "    </tr>\n",
       "    <tr>\n",
       "      <th>1236</th>\n",
       "      <td>1029563168685744128</td>\n",
       "      <td>@piquenaty @taisando @viracasacas @AntiCast @c...</td>\n",
       "      <td>Wed Aug 15 02:59:22 +0000 2018</td>\n",
       "      <td>1</td>\n",
       "      <td>:)</td>\n",
       "    </tr>\n",
       "    <tr>\n",
       "      <th>3192</th>\n",
       "      <td>1030514539513737217</td>\n",
       "      <td>@phosphorie Aaaa que gracinha!!! Eu sempre qui...</td>\n",
       "      <td>Fri Aug 17 17:59:46 +0000 2018</td>\n",
       "      <td>0</td>\n",
       "      <td>:(</td>\n",
       "    </tr>\n",
       "    <tr>\n",
       "      <th>351</th>\n",
       "      <td>1029544018001252352</td>\n",
       "      <td>Tu é bem linda enois — Ahh não acho, mas obrig...</td>\n",
       "      <td>Wed Aug 15 01:43:16 +0000 2018</td>\n",
       "      <td>1</td>\n",
       "      <td>:)</td>\n",
       "    </tr>\n",
       "  </tbody>\n",
       "</table>\n",
       "</div>"
      ],
      "text/plain": [
       "                       id                                         tweet_text  \\\n",
       "2796  1030509062537003009  ai cara sabe queria dar todo o amor do mundo p...   \n",
       "2775  1030508813198209024  eu tenho orgulho demais por tudo o que ela con...   \n",
       "1236  1029563168685744128  @piquenaty @taisando @viracasacas @AntiCast @c...   \n",
       "3192  1030514539513737217  @phosphorie Aaaa que gracinha!!! Eu sempre qui...   \n",
       "351   1029544018001252352  Tu é bem linda enois — Ahh não acho, mas obrig...   \n",
       "\n",
       "                          tweet_date  sentiment query_used  \n",
       "2796  Fri Aug 17 17:38:01 +0000 2018          0         :(  \n",
       "2775  Fri Aug 17 17:37:01 +0000 2018          0         :(  \n",
       "1236  Wed Aug 15 02:59:22 +0000 2018          1         :)  \n",
       "3192  Fri Aug 17 17:59:46 +0000 2018          0         :(  \n",
       "351   Wed Aug 15 01:43:16 +0000 2018          1         :)  "
      ]
     },
     "execution_count": 26,
     "metadata": {},
     "output_type": "execute_result"
    }
   ],
   "source": [
    "print(len(test3classes))\n",
    "test3classes.sample(5)"
   ]
  },
  {
   "cell_type": "code",
   "execution_count": 27,
   "metadata": {},
   "outputs": [
    {
     "name": "stdout",
     "output_type": "stream",
     "text": [
      "[1 0 2]\n"
     ]
    }
   ],
   "source": [
    "print(test3classes.sentiment.unique())"
   ]
  },
  {
   "cell_type": "code",
   "execution_count": 28,
   "metadata": {},
   "outputs": [
    {
     "data": {
      "image/png": "[encoded data removed]",
      "text/plain": [
       "<Figure size 432x288 with 1 Axes>"
      ]
     },
     "metadata": {
      "needs_background": "light"
     },
     "output_type": "display_data"
    }
   ],
   "source": [
    "series = test3classes['sentiment'].value_counts()\n",
    "ax = series.plot(kind='bar', title='')\n",
    "ax.set_xlabel('Sentimento')\n",
    "ax.set_ylabel('Quantidade')\n",
    "plt.show()"
   ]
  },
  {
   "cell_type": "code",
   "execution_count": 29,
   "metadata": {},
   "outputs": [
    {
     "name": "stdout",
     "output_type": "stream",
     "text": [
      "Positivo = 33.346669% \n",
      "Negativo = 33.326665% \n",
      "Neutro = 33.326665% \n"
     ]
    }
   ],
   "source": [
    "series = test3classes['sentiment'].value_counts()\n",
    "por_neg = (series[0]/ ( series[0]+ series[1] + series[2] )) * 100\n",
    "por_pos = (series[1] / ( series[0] + series[1] + series[2] )) * 100\n",
    "por_neu = (series[2] / ( series[0] + series[1] + series[2])) * 100\n",
    "print(\"Positivo = %f%% \\nNegativo = %f%% \\nNeutro = %f%% \" % (por_pos,por_neg,por_neu))"
   ]
  },
  {
   "cell_type": "markdown",
   "metadata": {},
   "source": [
    "## Arquivo TestTema.csv"
   ]
  },
  {
   "cell_type": "code",
   "execution_count": 30,
   "metadata": {},
   "outputs": [],
   "source": [
    "testtema = pd.read_csv('../portuguese-tweets-for-sentiment-analysis/testdatasets/TestTema.csv',delimiter=';')"
   ]
  },
  {
   "cell_type": "code",
   "execution_count": 31,
   "metadata": {},
   "outputs": [
    {
     "name": "stdout",
     "output_type": "stream",
     "text": [
      "5000\n"
     ]
    },
    {
     "data": {
      "text/html": [
       "<div>\n",
       "<style scoped>\n",
       "    .dataframe tbody tr th:only-of-type {\n",
       "        vertical-align: middle;\n",
       "    }\n",
       "\n",
       "    .dataframe tbody tr th {\n",
       "        vertical-align: top;\n",
       "    }\n",
       "\n",
       "    .dataframe thead th {\n",
       "        text-align: right;\n",
       "    }\n",
       "</style>\n",
       "<table border=\"1\" class=\"dataframe\">\n",
       "  <thead>\n",
       "    <tr style=\"text-align: right;\">\n",
       "      <th></th>\n",
       "      <th>id</th>\n",
       "      <th>tweet_text</th>\n",
       "      <th>tweet_date</th>\n",
       "      <th>sentiment</th>\n",
       "      <th>query_used</th>\n",
       "    </tr>\n",
       "  </thead>\n",
       "  <tbody>\n",
       "    <tr>\n",
       "      <th>943</th>\n",
       "      <td>1025088702404616197</td>\n",
       "      <td>@Jungkookevilma3 @wefightt @BTS_twt As duas ca...</td>\n",
       "      <td>Thu Aug 02 18:39:26 +0000 2018</td>\n",
       "      <td>1</td>\n",
       "      <td>votar :)</td>\n",
       "    </tr>\n",
       "    <tr>\n",
       "      <th>2587</th>\n",
       "      <td>1024129612983533568</td>\n",
       "      <td>@Vera5515 perdi de ver o Bolsonaro :(</td>\n",
       "      <td>Tue Jul 31 03:08:21 +0000 2018</td>\n",
       "      <td>0</td>\n",
       "      <td>bolsonaro :(</td>\n",
       "    </tr>\n",
       "    <tr>\n",
       "      <th>3499</th>\n",
       "      <td>1026965503678603265</td>\n",
       "      <td>@ohskyb ainda acho q a senhorita me bloqueas t...</td>\n",
       "      <td>Tue Aug 07 22:57:10 +0000 2018</td>\n",
       "      <td>0</td>\n",
       "      <td>bolsonaro :(</td>\n",
       "    </tr>\n",
       "    <tr>\n",
       "      <th>1133</th>\n",
       "      <td>1025308138046664704</td>\n",
       "      <td>#Repost @felipenossodengooficial • • • Recadin...</td>\n",
       "      <td>Fri Aug 03 09:11:24 +0000 2018</td>\n",
       "      <td>1</td>\n",
       "      <td>#sucesso</td>\n",
       "    </tr>\n",
       "    <tr>\n",
       "      <th>3967</th>\n",
       "      <td>1027768337705717762</td>\n",
       "      <td>A única coisa que me vem à cabeça depois desse...</td>\n",
       "      <td>Fri Aug 10 04:07:21 +0000 2018</td>\n",
       "      <td>0</td>\n",
       "      <td>#DebateBand :(</td>\n",
       "    </tr>\n",
       "  </tbody>\n",
       "</table>\n",
       "</div>"
      ],
      "text/plain": [
       "                       id                                         tweet_text  \\\n",
       "943   1025088702404616197  @Jungkookevilma3 @wefightt @BTS_twt As duas ca...   \n",
       "2587  1024129612983533568              @Vera5515 perdi de ver o Bolsonaro :(   \n",
       "3499  1026965503678603265  @ohskyb ainda acho q a senhorita me bloqueas t...   \n",
       "1133  1025308138046664704  #Repost @felipenossodengooficial • • • Recadin...   \n",
       "3967  1027768337705717762  A única coisa que me vem à cabeça depois desse...   \n",
       "\n",
       "                          tweet_date  sentiment      query_used  \n",
       "943   Thu Aug 02 18:39:26 +0000 2018          1        votar :)  \n",
       "2587  Tue Jul 31 03:08:21 +0000 2018          0    bolsonaro :(  \n",
       "3499  Tue Aug 07 22:57:10 +0000 2018          0    bolsonaro :(  \n",
       "1133  Fri Aug 03 09:11:24 +0000 2018          1        #sucesso  \n",
       "3967  Fri Aug 10 04:07:21 +0000 2018          0  #DebateBand :(  "
      ]
     },
     "execution_count": 31,
     "metadata": {},
     "output_type": "execute_result"
    }
   ],
   "source": [
    "print(len(testtema))\n",
    "testtema.sample(5)"
   ]
  },
  {
   "cell_type": "code",
   "execution_count": 32,
   "metadata": {},
   "outputs": [
    {
     "name": "stdout",
     "output_type": "stream",
     "text": [
      "[1 0]\n"
     ]
    }
   ],
   "source": [
    "print(testtema.sentiment.unique())"
   ]
  },
  {
   "cell_type": "code",
   "execution_count": 33,
   "metadata": {},
   "outputs": [
    {
     "data": {
      "image/png": "[encoded data removed]",
      "text/plain": [
       "<Figure size 432x288 with 1 Axes>"
      ]
     },
     "metadata": {
      "needs_background": "light"
     },
     "output_type": "display_data"
    }
   ],
   "source": [
    "series = testtema['sentiment'].value_counts()\n",
    "ax = series.plot(kind='bar', title='')\n",
    "ax.set_xlabel('Sentimento')\n",
    "ax.set_ylabel('Quantidade')\n",
    "plt.show()"
   ]
  },
  {
   "cell_type": "code",
   "execution_count": 34,
   "metadata": {},
   "outputs": [
    {
     "name": "stdout",
     "output_type": "stream",
     "text": [
      "Positivo = 50.000000% \n",
      "Negativo = 50.000000% \n"
     ]
    }
   ],
   "source": [
    "series = testtema['sentiment'].value_counts()\n",
    "por_neg = (series[0]/ ( series[0]+ series[1] )) * 100\n",
    "por_pos = (series[1] / ( series[0] + series[1]  )) * 100\n",
    "print(\"Positivo = %f%% \\nNegativo = %f%% \" % (por_pos,por_neg))"
   ]
  },
  {
   "cell_type": "markdown",
   "metadata": {},
   "source": [
    "# Pasta de trainingdatasets"
   ]
  },
  {
   "cell_type": "markdown",
   "metadata": {},
   "source": [
    "## Arquivo Train100.csv"
   ]
  },
  {
   "cell_type": "code",
   "execution_count": 35,
   "metadata": {},
   "outputs": [],
   "source": [
    "train = pd.read_csv('../portuguese-tweets-for-sentiment-analysis/trainingdatasets/Train100.csv',delimiter=';')"
   ]
  },
  {
   "cell_type": "code",
   "execution_count": 36,
   "metadata": {},
   "outputs": [
    {
     "name": "stdout",
     "output_type": "stream",
     "text": [
      "100000\n"
     ]
    },
    {
     "data": {
      "text/html": [
       "<div>\n",
       "<style scoped>\n",
       "    .dataframe tbody tr th:only-of-type {\n",
       "        vertical-align: middle;\n",
       "    }\n",
       "\n",
       "    .dataframe tbody tr th {\n",
       "        vertical-align: top;\n",
       "    }\n",
       "\n",
       "    .dataframe thead th {\n",
       "        text-align: right;\n",
       "    }\n",
       "</style>\n",
       "<table border=\"1\" class=\"dataframe\">\n",
       "  <thead>\n",
       "    <tr style=\"text-align: right;\">\n",
       "      <th></th>\n",
       "      <th>id</th>\n",
       "      <th>tweet_text</th>\n",
       "      <th>tweet_date</th>\n",
       "      <th>sentiment</th>\n",
       "      <th>query_used</th>\n",
       "    </tr>\n",
       "  </thead>\n",
       "  <tbody>\n",
       "    <tr>\n",
       "      <th>39766</th>\n",
       "      <td>1032409575348101120</td>\n",
       "      <td>A Patrícia não me responde para eu saber quem ...</td>\n",
       "      <td>Wed Aug 22 23:29:58 +0000 2018</td>\n",
       "      <td>1</td>\n",
       "      <td>:)</td>\n",
       "    </tr>\n",
       "    <tr>\n",
       "      <th>49315</th>\n",
       "      <td>1031673792970584064</td>\n",
       "      <td>Nao ha sentimento pior doq achar q podia conta...</td>\n",
       "      <td>Mon Aug 20 22:46:14 +0000 2018</td>\n",
       "      <td>1</td>\n",
       "      <td>:)</td>\n",
       "    </tr>\n",
       "    <tr>\n",
       "      <th>67817</th>\n",
       "      <td>1038586304848637952</td>\n",
       "      <td>quando a nathalia voltou a usar o tt foi tão b...</td>\n",
       "      <td>Sun Sep 09 00:34:05 +0000 2018</td>\n",
       "      <td>0</td>\n",
       "      <td>:(</td>\n",
       "    </tr>\n",
       "    <tr>\n",
       "      <th>43508</th>\n",
       "      <td>1032244143580475392</td>\n",
       "      <td>nem queria chegar a esse ponto mas tou me já a...</td>\n",
       "      <td>Wed Aug 22 12:32:36 +0000 2018</td>\n",
       "      <td>1</td>\n",
       "      <td>:)</td>\n",
       "    </tr>\n",
       "    <tr>\n",
       "      <th>23131</th>\n",
       "      <td>1036645455655043072</td>\n",
       "      <td>@Jovirone1 desculpa a pergunta, mas tu ainda é...</td>\n",
       "      <td>Mon Sep 03 16:01:51 +0000 2018</td>\n",
       "      <td>1</td>\n",
       "      <td>:)</td>\n",
       "    </tr>\n",
       "  </tbody>\n",
       "</table>\n",
       "</div>"
      ],
      "text/plain": [
       "                        id                                         tweet_text  \\\n",
       "39766  1032409575348101120  A Patrícia não me responde para eu saber quem ...   \n",
       "49315  1031673792970584064  Nao ha sentimento pior doq achar q podia conta...   \n",
       "67817  1038586304848637952  quando a nathalia voltou a usar o tt foi tão b...   \n",
       "43508  1032244143580475392  nem queria chegar a esse ponto mas tou me já a...   \n",
       "23131  1036645455655043072  @Jovirone1 desculpa a pergunta, mas tu ainda é...   \n",
       "\n",
       "                           tweet_date  sentiment query_used  \n",
       "39766  Wed Aug 22 23:29:58 +0000 2018          1         :)  \n",
       "49315  Mon Aug 20 22:46:14 +0000 2018          1         :)  \n",
       "67817  Sun Sep 09 00:34:05 +0000 2018          0         :(  \n",
       "43508  Wed Aug 22 12:32:36 +0000 2018          1         :)  \n",
       "23131  Mon Sep 03 16:01:51 +0000 2018          1         :)  "
      ]
     },
     "execution_count": 36,
     "metadata": {},
     "output_type": "execute_result"
    }
   ],
   "source": [
    "print(len(train))\n",
    "train.sample(5)"
   ]
  },
  {
   "cell_type": "code",
   "execution_count": 37,
   "metadata": {},
   "outputs": [
    {
     "name": "stdout",
     "output_type": "stream",
     "text": [
      "[1 0]\n"
     ]
    }
   ],
   "source": [
    "print(train.sentiment.unique())"
   ]
  },
  {
   "cell_type": "code",
   "execution_count": 38,
   "metadata": {},
   "outputs": [
    {
     "data": {
      "image/png": "[encoded data removed]",
      "text/plain": [
       "<Figure size 432x288 with 1 Axes>"
      ]
     },
     "metadata": {
      "needs_background": "light"
     },
     "output_type": "display_data"
    }
   ],
   "source": [
    "series = train['sentiment'].value_counts()\n",
    "ax = series.plot(kind='bar', title='')\n",
    "ax.set_xlabel('Sentimento')\n",
    "ax.set_ylabel('Quantidade')\n",
    "plt.show()"
   ]
  },
  {
   "cell_type": "code",
   "execution_count": 39,
   "metadata": {},
   "outputs": [
    {
     "name": "stdout",
     "output_type": "stream",
     "text": [
      "Positivo = 50.000000% \n",
      "Negativo = 50.000000% \n"
     ]
    }
   ],
   "source": [
    "series = train['sentiment'].value_counts()\n",
    "por_neg = (series[0]/ ( series[0]+ series[1] )) * 100\n",
    "por_pos = (series[1] / ( series[0] + series[1]  )) * 100\n",
    "print(\"Positivo = %f%% \\nNegativo = %f%% \" % (por_pos,por_neg))"
   ]
  },
  {
   "cell_type": "markdown",
   "metadata": {},
   "source": [
    "## Arquivo Train200.csv"
   ]
  },
  {
   "cell_type": "code",
   "execution_count": 40,
   "metadata": {},
   "outputs": [
    {
     "name": "stdout",
     "output_type": "stream",
     "text": [
      "200000\n"
     ]
    },
    {
     "data": {
      "text/html": [
       "<div>\n",
       "<style scoped>\n",
       "    .dataframe tbody tr th:only-of-type {\n",
       "        vertical-align: middle;\n",
       "    }\n",
       "\n",
       "    .dataframe tbody tr th {\n",
       "        vertical-align: top;\n",
       "    }\n",
       "\n",
       "    .dataframe thead th {\n",
       "        text-align: right;\n",
       "    }\n",
       "</style>\n",
       "<table border=\"1\" class=\"dataframe\">\n",
       "  <thead>\n",
       "    <tr style=\"text-align: right;\">\n",
       "      <th></th>\n",
       "      <th>id</th>\n",
       "      <th>tweet_text</th>\n",
       "      <th>tweet_date</th>\n",
       "      <th>sentiment</th>\n",
       "      <th>query_used</th>\n",
       "    </tr>\n",
       "  </thead>\n",
       "  <tbody>\n",
       "    <tr>\n",
       "      <th>134499</th>\n",
       "      <td>1040067276765061120</td>\n",
       "      <td>Agora fiquei triste :(</td>\n",
       "      <td>Thu Sep 13 02:38:56 +0000 2018</td>\n",
       "      <td>0</td>\n",
       "      <td>:(</td>\n",
       "    </tr>\n",
       "    <tr>\n",
       "      <th>20144</th>\n",
       "      <td>1039554937447956486</td>\n",
       "      <td>@iines_moreno @camila_mendes00 Olá amigas lind...</td>\n",
       "      <td>Tue Sep 11 16:43:05 +0000 2018</td>\n",
       "      <td>1</td>\n",
       "      <td>:)</td>\n",
       "    </tr>\n",
       "    <tr>\n",
       "      <th>87105</th>\n",
       "      <td>1031360126484140032</td>\n",
       "      <td>@CarriloRenan Mas só de oferecer você já fez m...</td>\n",
       "      <td>Mon Aug 20 01:59:50 +0000 2018</td>\n",
       "      <td>1</td>\n",
       "      <td>:)</td>\n",
       "    </tr>\n",
       "    <tr>\n",
       "      <th>49000</th>\n",
       "      <td>1036676122484908032</td>\n",
       "      <td>Graças a Deus estou melhor :)</td>\n",
       "      <td>Mon Sep 03 18:03:42 +0000 2018</td>\n",
       "      <td>1</td>\n",
       "      <td>:)</td>\n",
       "    </tr>\n",
       "    <tr>\n",
       "      <th>121387</th>\n",
       "      <td>1040783885947363330</td>\n",
       "      <td>meu deus gente :((((((( https://t.co/8CWKJpN4kV</td>\n",
       "      <td>Sat Sep 15 02:06:29 +0000 2018</td>\n",
       "      <td>0</td>\n",
       "      <td>:(</td>\n",
       "    </tr>\n",
       "  </tbody>\n",
       "</table>\n",
       "</div>"
      ],
      "text/plain": [
       "                         id  \\\n",
       "134499  1040067276765061120   \n",
       "20144   1039554937447956486   \n",
       "87105   1031360126484140032   \n",
       "49000   1036676122484908032   \n",
       "121387  1040783885947363330   \n",
       "\n",
       "                                               tweet_text  \\\n",
       "134499                             Agora fiquei triste :(   \n",
       "20144   @iines_moreno @camila_mendes00 Olá amigas lind...   \n",
       "87105   @CarriloRenan Mas só de oferecer você já fez m...   \n",
       "49000                       Graças a Deus estou melhor :)   \n",
       "121387    meu deus gente :((((((( https://t.co/8CWKJpN4kV   \n",
       "\n",
       "                            tweet_date  sentiment query_used  \n",
       "134499  Thu Sep 13 02:38:56 +0000 2018          0         :(  \n",
       "20144   Tue Sep 11 16:43:05 +0000 2018          1         :)  \n",
       "87105   Mon Aug 20 01:59:50 +0000 2018          1         :)  \n",
       "49000   Mon Sep 03 18:03:42 +0000 2018          1         :)  \n",
       "121387  Sat Sep 15 02:06:29 +0000 2018          0         :(  "
      ]
     },
     "execution_count": 40,
     "metadata": {},
     "output_type": "execute_result"
    }
   ],
   "source": [
    "train = pd.read_csv('../portuguese-tweets-for-sentiment-analysis/trainingdatasets/Train200.csv',delimiter=';')\n",
    "print(len(train))\n",
    "train.sample(5)"
   ]
  },
  {
   "cell_type": "code",
   "execution_count": 41,
   "metadata": {},
   "outputs": [
    {
     "name": "stdout",
     "output_type": "stream",
     "text": [
      "[1 0]\n"
     ]
    }
   ],
   "source": [
    "print(train.sentiment.unique())"
   ]
  },
  {
   "cell_type": "code",
   "execution_count": 42,
   "metadata": {},
   "outputs": [
    {
     "data": {
      "image/png": "[encoded data removed]",
      "text/plain": [
       "<Figure size 432x288 with 1 Axes>"
      ]
     },
     "metadata": {
      "needs_background": "light"
     },
     "output_type": "display_data"
    }
   ],
   "source": [
    "series = train['sentiment'].value_counts()\n",
    "ax = series.plot(kind='bar', title='')\n",
    "ax.set_xlabel('Sentimento')\n",
    "ax.set_ylabel('Quantidade')\n",
    "plt.show()"
   ]
  },
  {
   "cell_type": "code",
   "execution_count": 43,
   "metadata": {},
   "outputs": [
    {
     "name": "stdout",
     "output_type": "stream",
     "text": [
      "Positivo = 50.000000% \n",
      "Negativo = 50.000000% \n"
     ]
    }
   ],
   "source": [
    "series = train['sentiment'].value_counts()\n",
    "por_neg = (series[0]/ ( series[0]+ series[1] )) * 100\n",
    "por_pos = (series[1] / ( series[0] + series[1]  )) * 100\n",
    "print(\"Positivo = %f%% \\nNegativo = %f%% \" % (por_pos,por_neg))"
   ]
  },
  {
   "cell_type": "markdown",
   "metadata": {},
   "source": [
    "## Arquivo Train300.csv"
   ]
  },
  {
   "cell_type": "code",
   "execution_count": 44,
   "metadata": {},
   "outputs": [
    {
     "name": "stdout",
     "output_type": "stream",
     "text": [
      "300000\n"
     ]
    },
    {
     "data": {
      "text/html": [
       "<div>\n",
       "<style scoped>\n",
       "    .dataframe tbody tr th:only-of-type {\n",
       "        vertical-align: middle;\n",
       "    }\n",
       "\n",
       "    .dataframe tbody tr th {\n",
       "        vertical-align: top;\n",
       "    }\n",
       "\n",
       "    .dataframe thead th {\n",
       "        text-align: right;\n",
       "    }\n",
       "</style>\n",
       "<table border=\"1\" class=\"dataframe\">\n",
       "  <thead>\n",
       "    <tr style=\"text-align: right;\">\n",
       "      <th></th>\n",
       "      <th>id</th>\n",
       "      <th>tweet_text</th>\n",
       "      <th>tweet_date</th>\n",
       "      <th>sentiment</th>\n",
       "      <th>query_used</th>\n",
       "    </tr>\n",
       "  </thead>\n",
       "  <tbody>\n",
       "    <tr>\n",
       "      <th>245219</th>\n",
       "      <td>1042376151442907136</td>\n",
       "      <td>Tava cheio de ideias pra escrever aqui, aí eu ...</td>\n",
       "      <td>Wed Sep 19 11:33:35 +0000 2018</td>\n",
       "      <td>0</td>\n",
       "      <td>:(</td>\n",
       "    </tr>\n",
       "    <tr>\n",
       "      <th>118106</th>\n",
       "      <td>1037657229833449473</td>\n",
       "      <td>@joanarsd Que fofinha :)</td>\n",
       "      <td>Thu Sep 06 11:02:16 +0000 2018</td>\n",
       "      <td>1</td>\n",
       "      <td>:)</td>\n",
       "    </tr>\n",
       "    <tr>\n",
       "      <th>10014</th>\n",
       "      <td>1044956554615803905</td>\n",
       "      <td>@cacaucb Porque suas fotos são as melhores. Bo...</td>\n",
       "      <td>Wed Sep 26 14:27:11 +0000 2018</td>\n",
       "      <td>1</td>\n",
       "      <td>:)</td>\n",
       "    </tr>\n",
       "    <tr>\n",
       "      <th>179173</th>\n",
       "      <td>1044338130382393345</td>\n",
       "      <td>@mybabysimone te amo demais :(((</td>\n",
       "      <td>Mon Sep 24 21:29:47 +0000 2018</td>\n",
       "      <td>0</td>\n",
       "      <td>:(</td>\n",
       "    </tr>\n",
       "    <tr>\n",
       "      <th>255424</th>\n",
       "      <td>1042204781740220416</td>\n",
       "      <td>@uh2bt Ah, que doce, você. 🌺 Queria que desse ...</td>\n",
       "      <td>Wed Sep 19 00:12:37 +0000 2018</td>\n",
       "      <td>0</td>\n",
       "      <td>:(</td>\n",
       "    </tr>\n",
       "  </tbody>\n",
       "</table>\n",
       "</div>"
      ],
      "text/plain": [
       "                         id  \\\n",
       "245219  1042376151442907136   \n",
       "118106  1037657229833449473   \n",
       "10014   1044956554615803905   \n",
       "179173  1044338130382393345   \n",
       "255424  1042204781740220416   \n",
       "\n",
       "                                               tweet_text  \\\n",
       "245219  Tava cheio de ideias pra escrever aqui, aí eu ...   \n",
       "118106                           @joanarsd Que fofinha :)   \n",
       "10014   @cacaucb Porque suas fotos são as melhores. Bo...   \n",
       "179173                   @mybabysimone te amo demais :(((   \n",
       "255424  @uh2bt Ah, que doce, você. 🌺 Queria que desse ...   \n",
       "\n",
       "                            tweet_date  sentiment query_used  \n",
       "245219  Wed Sep 19 11:33:35 +0000 2018          0         :(  \n",
       "118106  Thu Sep 06 11:02:16 +0000 2018          1         :)  \n",
       "10014   Wed Sep 26 14:27:11 +0000 2018          1         :)  \n",
       "179173  Mon Sep 24 21:29:47 +0000 2018          0         :(  \n",
       "255424  Wed Sep 19 00:12:37 +0000 2018          0         :(  "
      ]
     },
     "execution_count": 44,
     "metadata": {},
     "output_type": "execute_result"
    }
   ],
   "source": [
    "train = pd.read_csv('../portuguese-tweets-for-sentiment-analysis/trainingdatasets/Train300.csv',delimiter=';')\n",
    "print(len(train))\n",
    "train.sample(5)"
   ]
  },
  {
   "cell_type": "code",
   "execution_count": 45,
   "metadata": {},
   "outputs": [
    {
     "name": "stdout",
     "output_type": "stream",
     "text": [
      "[1 0]\n"
     ]
    }
   ],
   "source": [
    "print(train.sentiment.unique())"
   ]
  },
  {
   "cell_type": "code",
   "execution_count": 46,
   "metadata": {},
   "outputs": [
    {
     "data": {
      "image/png": "[encoded data removed]",
      "text/plain": [
       "<Figure size 432x288 with 1 Axes>"
      ]
     },
     "metadata": {
      "needs_background": "light"
     },
     "output_type": "display_data"
    }
   ],
   "source": [
    "series = train['sentiment'].value_counts()\n",
    "ax = series.plot(kind='bar', title='')\n",
    "ax.set_xlabel('Sentimento')\n",
    "ax.set_ylabel('Quantidade')\n",
    "plt.show()"
   ]
  },
  {
   "cell_type": "code",
   "execution_count": 47,
   "metadata": {},
   "outputs": [
    {
     "name": "stdout",
     "output_type": "stream",
     "text": [
      "Positivo = 50.000000% \n",
      "Negativo = 50.000000% \n"
     ]
    }
   ],
   "source": [
    "series = train['sentiment'].value_counts()\n",
    "por_neg = (series[0]/ ( series[0]+ series[1] )) * 100\n",
    "por_pos = (series[1] / ( series[0] + series[1]  )) * 100\n",
    "print(\"Positivo = %f%% \\nNegativo = %f%% \" % (por_pos,por_neg))"
   ]
  },
  {
   "cell_type": "markdown",
   "metadata": {},
   "source": [
    "## Arquivo Train400.csv"
   ]
  },
  {
   "cell_type": "code",
   "execution_count": 48,
   "metadata": {},
   "outputs": [
    {
     "name": "stdout",
     "output_type": "stream",
     "text": [
      "400000\n"
     ]
    },
    {
     "data": {
      "text/html": [
       "<div>\n",
       "<style scoped>\n",
       "    .dataframe tbody tr th:only-of-type {\n",
       "        vertical-align: middle;\n",
       "    }\n",
       "\n",
       "    .dataframe tbody tr th {\n",
       "        vertical-align: top;\n",
       "    }\n",
       "\n",
       "    .dataframe thead th {\n",
       "        text-align: right;\n",
       "    }\n",
       "</style>\n",
       "<table border=\"1\" class=\"dataframe\">\n",
       "  <thead>\n",
       "    <tr style=\"text-align: right;\">\n",
       "      <th></th>\n",
       "      <th>id</th>\n",
       "      <th>tweet_text</th>\n",
       "      <th>tweet_date</th>\n",
       "      <th>sentiment</th>\n",
       "      <th>query_used</th>\n",
       "    </tr>\n",
       "  </thead>\n",
       "  <tbody>\n",
       "    <tr>\n",
       "      <th>260750</th>\n",
       "      <td>1043288746182029312</td>\n",
       "      <td>queria tá assistindo ahs: coven com a menina q...</td>\n",
       "      <td>Fri Sep 21 23:59:55 +0000 2018</td>\n",
       "      <td>0</td>\n",
       "      <td>:(</td>\n",
       "    </tr>\n",
       "    <tr>\n",
       "      <th>66935</th>\n",
       "      <td>1042019728473157632</td>\n",
       "      <td>as aulas começaram ontem e eu hoje já não fui ...</td>\n",
       "      <td>Tue Sep 18 11:57:17 +0000 2018</td>\n",
       "      <td>1</td>\n",
       "      <td>:)</td>\n",
       "    </tr>\n",
       "    <tr>\n",
       "      <th>103803</th>\n",
       "      <td>1039345360479629313</td>\n",
       "      <td>@naweskil @frednmartins eu ainda nao precisei ...</td>\n",
       "      <td>Tue Sep 11 02:50:18 +0000 2018</td>\n",
       "      <td>1</td>\n",
       "      <td>:)</td>\n",
       "    </tr>\n",
       "    <tr>\n",
       "      <th>51599</th>\n",
       "      <td>1042519355928530944</td>\n",
       "      <td>:) quem ouve o pod sabe que existe muito para ...</td>\n",
       "      <td>Wed Sep 19 21:02:38 +0000 2018</td>\n",
       "      <td>1</td>\n",
       "      <td>:)</td>\n",
       "    </tr>\n",
       "    <tr>\n",
       "      <th>230265</th>\n",
       "      <td>1044328814749384705</td>\n",
       "      <td>hj nao vou cheirar :((</td>\n",
       "      <td>Mon Sep 24 20:52:46 +0000 2018</td>\n",
       "      <td>0</td>\n",
       "      <td>:(</td>\n",
       "    </tr>\n",
       "  </tbody>\n",
       "</table>\n",
       "</div>"
      ],
      "text/plain": [
       "                         id  \\\n",
       "260750  1043288746182029312   \n",
       "66935   1042019728473157632   \n",
       "103803  1039345360479629313   \n",
       "51599   1042519355928530944   \n",
       "230265  1044328814749384705   \n",
       "\n",
       "                                               tweet_text  \\\n",
       "260750  queria tá assistindo ahs: coven com a menina q...   \n",
       "66935   as aulas começaram ontem e eu hoje já não fui ...   \n",
       "103803  @naweskil @frednmartins eu ainda nao precisei ...   \n",
       "51599   :) quem ouve o pod sabe que existe muito para ...   \n",
       "230265                             hj nao vou cheirar :((   \n",
       "\n",
       "                            tweet_date  sentiment query_used  \n",
       "260750  Fri Sep 21 23:59:55 +0000 2018          0         :(  \n",
       "66935   Tue Sep 18 11:57:17 +0000 2018          1         :)  \n",
       "103803  Tue Sep 11 02:50:18 +0000 2018          1         :)  \n",
       "51599   Wed Sep 19 21:02:38 +0000 2018          1         :)  \n",
       "230265  Mon Sep 24 20:52:46 +0000 2018          0         :(  "
      ]
     },
     "execution_count": 48,
     "metadata": {},
     "output_type": "execute_result"
    }
   ],
   "source": [
    "train = pd.read_csv('../portuguese-tweets-for-sentiment-analysis/trainingdatasets/Train400.csv',delimiter=';')\n",
    "print(len(train))\n",
    "train.sample(5)"
   ]
  },
  {
   "cell_type": "code",
   "execution_count": 49,
   "metadata": {},
   "outputs": [
    {
     "name": "stdout",
     "output_type": "stream",
     "text": [
      "[1 0]\n"
     ]
    }
   ],
   "source": [
    "print(train.sentiment.unique())"
   ]
  },
  {
   "cell_type": "code",
   "execution_count": 50,
   "metadata": {},
   "outputs": [
    {
     "data": {
      "image/png": "[encoded data removed]",
      "text/plain": [
       "<Figure size 432x288 with 1 Axes>"
      ]
     },
     "metadata": {
      "needs_background": "light"
     },
     "output_type": "display_data"
    }
   ],
   "source": [
    "series = train['sentiment'].value_counts()\n",
    "ax = series.plot(kind='bar', title='')\n",
    "ax.set_xlabel('Sentimento')\n",
    "ax.set_ylabel('Quantidade')\n",
    "plt.show()"
   ]
  },
  {
   "cell_type": "code",
   "execution_count": 51,
   "metadata": {},
   "outputs": [
    {
     "name": "stdout",
     "output_type": "stream",
     "text": [
      "Positivo = 50.000000% \n",
      "Negativo = 50.000000% \n"
     ]
    }
   ],
   "source": [
    "series = train['sentiment'].value_counts()\n",
    "por_neg = (series[0]/ ( series[0]+ series[1] )) * 100\n",
    "por_pos = (series[1] / ( series[0] + series[1]  )) * 100\n",
    "print(\"Positivo = %f%% \\nNegativo = %f%% \" % (por_pos,por_neg))"
   ]
  },
  {
   "cell_type": "markdown",
   "metadata": {},
   "source": [
    "## Arquivo Train500.csv"
   ]
  },
  {
   "cell_type": "code",
   "execution_count": 52,
   "metadata": {},
   "outputs": [
    {
     "name": "stdout",
     "output_type": "stream",
     "text": [
      "500000\n"
     ]
    },
    {
     "data": {
      "text/html": [
       "<div>\n",
       "<style scoped>\n",
       "    .dataframe tbody tr th:only-of-type {\n",
       "        vertical-align: middle;\n",
       "    }\n",
       "\n",
       "    .dataframe tbody tr th {\n",
       "        vertical-align: top;\n",
       "    }\n",
       "\n",
       "    .dataframe thead th {\n",
       "        text-align: right;\n",
       "    }\n",
       "</style>\n",
       "<table border=\"1\" class=\"dataframe\">\n",
       "  <thead>\n",
       "    <tr style=\"text-align: right;\">\n",
       "      <th></th>\n",
       "      <th>id</th>\n",
       "      <th>tweet_text</th>\n",
       "      <th>tweet_date</th>\n",
       "      <th>sentiment</th>\n",
       "      <th>query_used</th>\n",
       "    </tr>\n",
       "  </thead>\n",
       "  <tbody>\n",
       "    <tr>\n",
       "      <th>27792</th>\n",
       "      <td>1045429736888049665</td>\n",
       "      <td>@pedrofguarda @captainmoura @ptnqmz Se tiveres...</td>\n",
       "      <td>Thu Sep 27 21:47:27 +0000 2018</td>\n",
       "      <td>1</td>\n",
       "      <td>:)</td>\n",
       "    </tr>\n",
       "    <tr>\n",
       "      <th>319146</th>\n",
       "      <td>1044347202305478656</td>\n",
       "      <td>O Machado só me trata mal :((</td>\n",
       "      <td>Mon Sep 24 22:05:50 +0000 2018</td>\n",
       "      <td>0</td>\n",
       "      <td>:(</td>\n",
       "    </tr>\n",
       "    <tr>\n",
       "      <th>230470</th>\n",
       "      <td>1030527046546583552</td>\n",
       "      <td>@fernandadbpm @onululu @YoMatiasPinto @XadrezV...</td>\n",
       "      <td>Fri Aug 17 18:49:28 +0000 2018</td>\n",
       "      <td>1</td>\n",
       "      <td>:)</td>\n",
       "    </tr>\n",
       "    <tr>\n",
       "      <th>327970</th>\n",
       "      <td>1044052620300759040</td>\n",
       "      <td>hey, minmin, você também me perdoa por não est...</td>\n",
       "      <td>Mon Sep 24 02:35:16 +0000 2018</td>\n",
       "      <td>0</td>\n",
       "      <td>:(</td>\n",
       "    </tr>\n",
       "    <tr>\n",
       "      <th>446741</th>\n",
       "      <td>1040775694232563718</td>\n",
       "      <td>cansada de me sentir triste so quero ficar fal...</td>\n",
       "      <td>Sat Sep 15 01:33:56 +0000 2018</td>\n",
       "      <td>0</td>\n",
       "      <td>:(</td>\n",
       "    </tr>\n",
       "  </tbody>\n",
       "</table>\n",
       "</div>"
      ],
      "text/plain": [
       "                         id  \\\n",
       "27792   1045429736888049665   \n",
       "319146  1044347202305478656   \n",
       "230470  1030527046546583552   \n",
       "327970  1044052620300759040   \n",
       "446741  1040775694232563718   \n",
       "\n",
       "                                               tweet_text  \\\n",
       "27792   @pedrofguarda @captainmoura @ptnqmz Se tiveres...   \n",
       "319146                      O Machado só me trata mal :((   \n",
       "230470  @fernandadbpm @onululu @YoMatiasPinto @XadrezV...   \n",
       "327970  hey, minmin, você também me perdoa por não est...   \n",
       "446741  cansada de me sentir triste so quero ficar fal...   \n",
       "\n",
       "                            tweet_date  sentiment query_used  \n",
       "27792   Thu Sep 27 21:47:27 +0000 2018          1         :)  \n",
       "319146  Mon Sep 24 22:05:50 +0000 2018          0         :(  \n",
       "230470  Fri Aug 17 18:49:28 +0000 2018          1         :)  \n",
       "327970  Mon Sep 24 02:35:16 +0000 2018          0         :(  \n",
       "446741  Sat Sep 15 01:33:56 +0000 2018          0         :(  "
      ]
     },
     "execution_count": 52,
     "metadata": {},
     "output_type": "execute_result"
    }
   ],
   "source": [
    "train = pd.read_csv('../portuguese-tweets-for-sentiment-analysis/trainingdatasets/Train500.csv',delimiter=';')\n",
    "print(len(train))\n",
    "train.sample(5)"
   ]
  },
  {
   "cell_type": "code",
   "execution_count": 53,
   "metadata": {},
   "outputs": [
    {
     "name": "stdout",
     "output_type": "stream",
     "text": [
      "[1 0]\n"
     ]
    }
   ],
   "source": [
    "print(train.sentiment.unique())"
   ]
  },
  {
   "cell_type": "code",
   "execution_count": 54,
   "metadata": {},
   "outputs": [
    {
     "data": {
      "image/png": "[encoded data removed]",
      "text/plain": [
       "<Figure size 432x288 with 1 Axes>"
      ]
     },
     "metadata": {
      "needs_background": "light"
     },
     "output_type": "display_data"
    }
   ],
   "source": [
    "series = train['sentiment'].value_counts()\n",
    "ax = series.plot(kind='bar', title='')\n",
    "ax.set_xlabel('Sentimento')\n",
    "ax.set_ylabel('Quantidade')\n",
    "plt.show()"
   ]
  },
  {
   "cell_type": "code",
   "execution_count": 55,
   "metadata": {},
   "outputs": [
    {
     "name": "stdout",
     "output_type": "stream",
     "text": [
      "Positivo = 50.000000% \n",
      "Negativo = 50.000000% \n"
     ]
    }
   ],
   "source": [
    "series = train['sentiment'].value_counts()\n",
    "por_neg = (series[0]/ ( series[0]+ series[1] )) * 100\n",
    "por_pos = (series[1] / ( series[0] + series[1]  )) * 100\n",
    "print(\"Positivo = %f%% \\nNegativo = %f%% \" % (por_pos,por_neg))"
   ]
  },
  {
   "cell_type": "markdown",
   "metadata": {},
   "source": [
    "## Arquivo Train50.csv"
   ]
  },
  {
   "cell_type": "code",
   "execution_count": 56,
   "metadata": {},
   "outputs": [
    {
     "name": "stdout",
     "output_type": "stream",
     "text": [
      "50000\n"
     ]
    },
    {
     "data": {
      "text/html": [
       "<div>\n",
       "<style scoped>\n",
       "    .dataframe tbody tr th:only-of-type {\n",
       "        vertical-align: middle;\n",
       "    }\n",
       "\n",
       "    .dataframe tbody tr th {\n",
       "        vertical-align: top;\n",
       "    }\n",
       "\n",
       "    .dataframe thead th {\n",
       "        text-align: right;\n",
       "    }\n",
       "</style>\n",
       "<table border=\"1\" class=\"dataframe\">\n",
       "  <thead>\n",
       "    <tr style=\"text-align: right;\">\n",
       "      <th></th>\n",
       "      <th>id</th>\n",
       "      <th>tweet_text</th>\n",
       "      <th>tweet_date</th>\n",
       "      <th>sentiment</th>\n",
       "      <th>query_used</th>\n",
       "    </tr>\n",
       "  </thead>\n",
       "  <tbody>\n",
       "    <tr>\n",
       "      <th>15549</th>\n",
       "      <td>1047467704767184897</td>\n",
       "      <td>@PPortogal @hugotiago_ Da maneira como defende...</td>\n",
       "      <td>Wed Oct 03 12:45:36 +0000 2018</td>\n",
       "      <td>1</td>\n",
       "      <td>:)</td>\n",
       "    </tr>\n",
       "    <tr>\n",
       "      <th>17715</th>\n",
       "      <td>1047353331868418048</td>\n",
       "      <td>@PhanieFunny @oliveirajamile1 @erikaarrudape A...</td>\n",
       "      <td>Wed Oct 03 05:11:07 +0000 2018</td>\n",
       "      <td>1</td>\n",
       "      <td>:)</td>\n",
       "    </tr>\n",
       "    <tr>\n",
       "      <th>19501</th>\n",
       "      <td>1047054762884194307</td>\n",
       "      <td>@RyannAlpaca Eu sou Emillian, desenho rostos, ...</td>\n",
       "      <td>Tue Oct 02 09:24:43 +0000 2018</td>\n",
       "      <td>1</td>\n",
       "      <td>:)</td>\n",
       "    </tr>\n",
       "    <tr>\n",
       "      <th>9854</th>\n",
       "      <td>1048439698274836480</td>\n",
       "      <td>tem uma afta na minha boca...era tudo que eu q...</td>\n",
       "      <td>Sat Oct 06 05:07:57 +0000 2018</td>\n",
       "      <td>1</td>\n",
       "      <td>:)</td>\n",
       "    </tr>\n",
       "    <tr>\n",
       "      <th>42401</th>\n",
       "      <td>1046942870467489793</td>\n",
       "      <td>aaaa eu quero :( 💖💖 https://t.co/eUfctGtzpv</td>\n",
       "      <td>Tue Oct 02 02:00:06 +0000 2018</td>\n",
       "      <td>0</td>\n",
       "      <td>:(</td>\n",
       "    </tr>\n",
       "  </tbody>\n",
       "</table>\n",
       "</div>"
      ],
      "text/plain": [
       "                        id                                         tweet_text  \\\n",
       "15549  1047467704767184897  @PPortogal @hugotiago_ Da maneira como defende...   \n",
       "17715  1047353331868418048  @PhanieFunny @oliveirajamile1 @erikaarrudape A...   \n",
       "19501  1047054762884194307  @RyannAlpaca Eu sou Emillian, desenho rostos, ...   \n",
       "9854   1048439698274836480  tem uma afta na minha boca...era tudo que eu q...   \n",
       "42401  1046942870467489793        aaaa eu quero :( 💖💖 https://t.co/eUfctGtzpv   \n",
       "\n",
       "                           tweet_date  sentiment query_used  \n",
       "15549  Wed Oct 03 12:45:36 +0000 2018          1         :)  \n",
       "17715  Wed Oct 03 05:11:07 +0000 2018          1         :)  \n",
       "19501  Tue Oct 02 09:24:43 +0000 2018          1         :)  \n",
       "9854   Sat Oct 06 05:07:57 +0000 2018          1         :)  \n",
       "42401  Tue Oct 02 02:00:06 +0000 2018          0         :(  "
      ]
     },
     "execution_count": 56,
     "metadata": {},
     "output_type": "execute_result"
    }
   ],
   "source": [
    "train = pd.read_csv('../portuguese-tweets-for-sentiment-analysis/trainingdatasets/Train50.csv',delimiter=';')\n",
    "print(len(train))\n",
    "train.sample(5)"
   ]
  },
  {
   "cell_type": "code",
   "execution_count": 57,
   "metadata": {},
   "outputs": [
    {
     "name": "stdout",
     "output_type": "stream",
     "text": [
      "[1 0]\n"
     ]
    }
   ],
   "source": [
    "print(train.sentiment.unique())"
   ]
  },
  {
   "cell_type": "code",
   "execution_count": 58,
   "metadata": {},
   "outputs": [
    {
     "data": {
      "image/png": "[encoded data removed]",
      "text/plain": [
       "<Figure size 432x288 with 1 Axes>"
      ]
     },
     "metadata": {
      "needs_background": "light"
     },
     "output_type": "display_data"
    }
   ],
   "source": [
    "series = train['sentiment'].value_counts()\n",
    "ax = series.plot(kind='bar', title='')\n",
    "ax.set_xlabel('Sentimento')\n",
    "ax.set_ylabel('Quantidade')\n",
    "plt.show()"
   ]
  },
  {
   "cell_type": "code",
   "execution_count": 59,
   "metadata": {},
   "outputs": [
    {
     "name": "stdout",
     "output_type": "stream",
     "text": [
      "Positivo = 50.000000% \n",
      "Negativo = 50.000000% \n"
     ]
    }
   ],
   "source": [
    "series = train['sentiment'].value_counts()\n",
    "por_neg = (series[0]/ ( series[0]+ series[1] )) * 100\n",
    "por_pos = (series[1] / ( series[0] + series[1]  )) * 100\n",
    "print(\"Positivo = %f%% \\nNegativo = %f%% \" % (por_pos,por_neg))"
   ]
  },
  {
   "cell_type": "markdown",
   "metadata": {},
   "source": [
    "## Arquivo Train3Classes.csv"
   ]
  },
  {
   "cell_type": "code",
   "execution_count": 60,
   "metadata": {},
   "outputs": [
    {
     "name": "stdout",
     "output_type": "stream",
     "text": [
      "100000\n"
     ]
    },
    {
     "data": {
      "text/html": [
       "<div>\n",
       "<style scoped>\n",
       "    .dataframe tbody tr th:only-of-type {\n",
       "        vertical-align: middle;\n",
       "    }\n",
       "\n",
       "    .dataframe tbody tr th {\n",
       "        vertical-align: top;\n",
       "    }\n",
       "\n",
       "    .dataframe thead th {\n",
       "        text-align: right;\n",
       "    }\n",
       "</style>\n",
       "<table border=\"1\" class=\"dataframe\">\n",
       "  <thead>\n",
       "    <tr style=\"text-align: right;\">\n",
       "      <th></th>\n",
       "      <th>id</th>\n",
       "      <th>tweet_text</th>\n",
       "      <th>tweet_date</th>\n",
       "      <th>sentiment</th>\n",
       "      <th>query_used</th>\n",
       "    </tr>\n",
       "  </thead>\n",
       "  <tbody>\n",
       "    <tr>\n",
       "      <th>21963</th>\n",
       "      <td>1046754335584120832</td>\n",
       "      <td>@tavasconcellos @blondinha_ a blondinha pergun...</td>\n",
       "      <td>Mon Oct 01 13:30:56 +0000 2018</td>\n",
       "      <td>1</td>\n",
       "      <td>:)</td>\n",
       "    </tr>\n",
       "    <tr>\n",
       "      <th>63524</th>\n",
       "      <td>1046257067332440064</td>\n",
       "      <td>Tô triste, maratonei a segunda temporada de At...</td>\n",
       "      <td>Sun Sep 30 04:34:58 +0000 2018</td>\n",
       "      <td>0</td>\n",
       "      <td>:(</td>\n",
       "    </tr>\n",
       "    <tr>\n",
       "      <th>29399</th>\n",
       "      <td>1045405474164805632</td>\n",
       "      <td>@gavazbu @luscas não falei nesse sentido. Se m...</td>\n",
       "      <td>Thu Sep 27 20:11:02 +0000 2018</td>\n",
       "      <td>1</td>\n",
       "      <td>:)</td>\n",
       "    </tr>\n",
       "    <tr>\n",
       "      <th>60341</th>\n",
       "      <td>1046731442594697216</td>\n",
       "      <td>@mrodgg Po mel eu gosto tanto d vc :(</td>\n",
       "      <td>Mon Oct 01 11:59:57 +0000 2018</td>\n",
       "      <td>0</td>\n",
       "      <td>:(</td>\n",
       "    </tr>\n",
       "    <tr>\n",
       "      <th>61526</th>\n",
       "      <td>1046700306187390976</td>\n",
       "      <td>@escribacafe oi, tudo bem? Não tô conseguindo ...</td>\n",
       "      <td>Mon Oct 01 09:56:14 +0000 2018</td>\n",
       "      <td>0</td>\n",
       "      <td>:(</td>\n",
       "    </tr>\n",
       "  </tbody>\n",
       "</table>\n",
       "</div>"
      ],
      "text/plain": [
       "                        id                                         tweet_text  \\\n",
       "21963  1046754335584120832  @tavasconcellos @blondinha_ a blondinha pergun...   \n",
       "63524  1046257067332440064  Tô triste, maratonei a segunda temporada de At...   \n",
       "29399  1045405474164805632  @gavazbu @luscas não falei nesse sentido. Se m...   \n",
       "60341  1046731442594697216              @mrodgg Po mel eu gosto tanto d vc :(   \n",
       "61526  1046700306187390976  @escribacafe oi, tudo bem? Não tô conseguindo ...   \n",
       "\n",
       "                           tweet_date  sentiment query_used  \n",
       "21963  Mon Oct 01 13:30:56 +0000 2018          1         :)  \n",
       "63524  Sun Sep 30 04:34:58 +0000 2018          0         :(  \n",
       "29399  Thu Sep 27 20:11:02 +0000 2018          1         :)  \n",
       "60341  Mon Oct 01 11:59:57 +0000 2018          0         :(  \n",
       "61526  Mon Oct 01 09:56:14 +0000 2018          0         :(  "
      ]
     },
     "execution_count": 60,
     "metadata": {},
     "output_type": "execute_result"
    }
   ],
   "source": [
    "train = pd.read_csv('../portuguese-tweets-for-sentiment-analysis/trainingdatasets/Train3Classes.csv',delimiter=';')\n",
    "print(len(train))\n",
    "train.sample(5)"
   ]
  },
  {
   "cell_type": "code",
   "execution_count": 61,
   "metadata": {},
   "outputs": [
    {
     "name": "stdout",
     "output_type": "stream",
     "text": [
      "[1 0 2]\n"
     ]
    }
   ],
   "source": [
    "print(train.sentiment.unique())"
   ]
  },
  {
   "cell_type": "code",
   "execution_count": 62,
   "metadata": {},
   "outputs": [
    {
     "data": {
      "image/png": "[encoded data removed]",
      "text/plain": [
       "<Figure size 432x288 with 1 Axes>"
      ]
     },
     "metadata": {
      "needs_background": "light"
     },
     "output_type": "display_data"
    }
   ],
   "source": [
    "series = train['sentiment'].value_counts()\n",
    "ax = series.plot(kind='bar', title='')\n",
    "ax.set_xlabel('Sentimento')\n",
    "ax.set_ylabel('Quantidade')\n",
    "plt.show()"
   ]
  },
  {
   "cell_type": "code",
   "execution_count": 63,
   "metadata": {},
   "outputs": [
    {
     "name": "stdout",
     "output_type": "stream",
     "text": [
      "Positivo = 50.000750% \n",
      "Negativo = 49.999250% \n"
     ]
    }
   ],
   "source": [
    "series = train['sentiment'].value_counts()\n",
    "por_neg = (series[0]/ ( series[0]+ series[1] )) * 100\n",
    "por_pos = (series[1] / ( series[0] + series[1]  )) * 100\n",
    "print(\"Positivo = %f%% \\nNegativo = %f%% \" % (por_pos,por_neg))"
   ]
  },
  {
   "cell_type": "markdown",
   "metadata": {},
   "source": [
    "## Arquivo TrainTema.csv"
   ]
  },
  {
   "cell_type": "code",
   "execution_count": 64,
   "metadata": {},
   "outputs": [
    {
     "name": "stdout",
     "output_type": "stream",
     "text": [
      "50000\n"
     ]
    },
    {
     "data": {
      "text/html": [
       "<div>\n",
       "<style scoped>\n",
       "    .dataframe tbody tr th:only-of-type {\n",
       "        vertical-align: middle;\n",
       "    }\n",
       "\n",
       "    .dataframe tbody tr th {\n",
       "        vertical-align: top;\n",
       "    }\n",
       "\n",
       "    .dataframe thead th {\n",
       "        text-align: right;\n",
       "    }\n",
       "</style>\n",
       "<table border=\"1\" class=\"dataframe\">\n",
       "  <thead>\n",
       "    <tr style=\"text-align: right;\">\n",
       "      <th></th>\n",
       "      <th>id</th>\n",
       "      <th>tweet_text</th>\n",
       "      <th>tweet_date</th>\n",
       "      <th>sentiment</th>\n",
       "      <th>query_used</th>\n",
       "    </tr>\n",
       "  </thead>\n",
       "  <tbody>\n",
       "    <tr>\n",
       "      <th>10705</th>\n",
       "      <td>1049067043725737984</td>\n",
       "      <td>bolsonaro via ganha de qlqr jeito prefiro q se...</td>\n",
       "      <td>Sun Oct 07 22:40:48 +0000 2018</td>\n",
       "      <td>1</td>\n",
       "      <td>bolsonaro :)</td>\n",
       "    </tr>\n",
       "    <tr>\n",
       "      <th>4230</th>\n",
       "      <td>1052243880123482112</td>\n",
       "      <td>Nova atualização para as fotos do Facebook e T...</td>\n",
       "      <td>Tue Oct 16 17:04:25 +0000 2018</td>\n",
       "      <td>1</td>\n",
       "      <td>ciro :)</td>\n",
       "    </tr>\n",
       "    <tr>\n",
       "      <th>3567</th>\n",
       "      <td>1052644560235614208</td>\n",
       "      <td>@mirela34381374 @PutassoSub @putobanheiraosp m...</td>\n",
       "      <td>Wed Oct 17 19:36:35 +0000 2018</td>\n",
       "      <td>1</td>\n",
       "      <td>fake news :)</td>\n",
       "    </tr>\n",
       "    <tr>\n",
       "      <th>13131</th>\n",
       "      <td>1048242553789845510</td>\n",
       "      <td>@batatacomunista @blue_666x Ciro Games ta ai m...</td>\n",
       "      <td>Fri Oct 05 16:04:34 +0000 2018</td>\n",
       "      <td>1</td>\n",
       "      <td>ciro :)</td>\n",
       "    </tr>\n",
       "    <tr>\n",
       "      <th>5089</th>\n",
       "      <td>1051600335893073920</td>\n",
       "      <td>No início da semana colei na porta do meu apar...</td>\n",
       "      <td>Sun Oct 14 22:27:12 +0000 2018</td>\n",
       "      <td>1</td>\n",
       "      <td>#EleNão :)</td>\n",
       "    </tr>\n",
       "  </tbody>\n",
       "</table>\n",
       "</div>"
      ],
      "text/plain": [
       "                        id                                         tweet_text  \\\n",
       "10705  1049067043725737984  bolsonaro via ganha de qlqr jeito prefiro q se...   \n",
       "4230   1052243880123482112  Nova atualização para as fotos do Facebook e T...   \n",
       "3567   1052644560235614208  @mirela34381374 @PutassoSub @putobanheiraosp m...   \n",
       "13131  1048242553789845510  @batatacomunista @blue_666x Ciro Games ta ai m...   \n",
       "5089   1051600335893073920  No início da semana colei na porta do meu apar...   \n",
       "\n",
       "                           tweet_date  sentiment    query_used  \n",
       "10705  Sun Oct 07 22:40:48 +0000 2018          1  bolsonaro :)  \n",
       "4230   Tue Oct 16 17:04:25 +0000 2018          1       ciro :)  \n",
       "3567   Wed Oct 17 19:36:35 +0000 2018          1  fake news :)  \n",
       "13131  Fri Oct 05 16:04:34 +0000 2018          1       ciro :)  \n",
       "5089   Sun Oct 14 22:27:12 +0000 2018          1    #EleNão :)  "
      ]
     },
     "execution_count": 64,
     "metadata": {},
     "output_type": "execute_result"
    }
   ],
   "source": [
    "train = pd.read_csv('../portuguese-tweets-for-sentiment-analysis/trainingdatasets/TrainTema.csv',delimiter=';')\n",
    "print(len(train))\n",
    "train.sample(5)"
   ]
  },
  {
   "cell_type": "code",
   "execution_count": 65,
   "metadata": {},
   "outputs": [
    {
     "name": "stdout",
     "output_type": "stream",
     "text": [
      "[1 0]\n"
     ]
    }
   ],
   "source": [
    "print(train.sentiment.unique())"
   ]
  },
  {
   "cell_type": "code",
   "execution_count": 66,
   "metadata": {},
   "outputs": [
    {
     "data": {
      "image/png": "[encoded data removed]",
      "text/plain": [
       "<Figure size 432x288 with 1 Axes>"
      ]
     },
     "metadata": {
      "needs_background": "light"
     },
     "output_type": "display_data"
    }
   ],
   "source": [
    "series = train['sentiment'].value_counts()\n",
    "ax = series.plot(kind='bar', title='')\n",
    "ax.set_xlabel('Sentimento')\n",
    "ax.set_ylabel('Quantidade')\n",
    "plt.show()"
   ]
  },
  {
   "cell_type": "code",
   "execution_count": 67,
   "metadata": {},
   "outputs": [
    {
     "name": "stdout",
     "output_type": "stream",
     "text": [
      "Positivo = 50.000000% \n",
      "Negativo = 50.000000% \n"
     ]
    }
   ],
   "source": [
    "series = train['sentiment'].value_counts()\n",
    "por_neg = (series[0]/ ( series[0]+ series[1] )) * 100\n",
    "por_pos = (series[1] / ( series[0] + series[1]  )) * 100\n",
    "print(\"Positivo = %f%% \\nNegativo = %f%% \" % (por_pos,por_neg))"
   ]
  }
 ],
 "metadata": {
  "kernelspec": {
   "display_name": "Python 3",
   "language": "python",
   "name": "python3"
  },
  "language_info": {
   "codemirror_mode": {
    "name": "ipython",
    "version": 3
   },
   "file_extension": ".py",
   "mimetype": "text/x-python",
   "name": "python",
   "nbconvert_exporter": "python",
   "pygments_lexer": "ipython3",
   "version": "3.7.3"
  }
 },
 "nbformat": 4,
 "nbformat_minor": 2
}
