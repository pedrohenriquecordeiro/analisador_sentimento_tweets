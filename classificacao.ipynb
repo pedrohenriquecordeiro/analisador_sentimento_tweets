{
 "cells": [
  {
   "cell_type": "code",
   "execution_count": 1,
   "metadata": {},
   "outputs": [],
   "source": [
    "import pandas as pd\n",
    "import numpy as np\n",
    "\n",
    "from sklearn.linear_model import LogisticRegression\n",
    "from sklearn.tree import DecisionTreeClassifier \n",
    "from sklearn.ensemble import RandomForestClassifier\n",
    "from sklearn.svm import LinearSVC\n",
    "\n",
    "from sklearn.feature_extraction.text import TfidfVectorizer\n",
    "from sklearn.model_selection import train_test_split \n",
    "\n",
    "from sklearn.model_selection import StratifiedKFold\n",
    "from sklearn.model_selection import cross_validate\n",
    "\n",
    "import time\n",
    "\n",
    "from sklearn.metrics import accuracy_score\n",
    "from sklearn import metrics\n",
    "from sklearn.metrics import classification_report\n",
    "from sklearn.metrics import confusion_matrix"
   ]
  },
  {
   "cell_type": "markdown",
   "metadata": {},
   "source": [
    "#### Busca dataset"
   ]
  },
  {
   "cell_type": "code",
   "execution_count": 2,
   "metadata": {},
   "outputs": [],
   "source": [
    "dataset  = pd.read_csv('treated_dataset.csv')"
   ]
  },
  {
   "cell_type": "code",
   "execution_count": 3,
   "metadata": {},
   "outputs": [
    {
     "data": {
      "text/plain": [
       "497247"
      ]
     },
     "execution_count": 3,
     "metadata": {},
     "output_type": "execute_result"
    }
   ],
   "source": [
    "len(dataset)"
   ]
  },
  {
   "cell_type": "code",
   "execution_count": 4,
   "metadata": {},
   "outputs": [
    {
     "data": {
      "text/html": [
       "<div>\n",
       "<style scoped>\n",
       "    .dataframe tbody tr th:only-of-type {\n",
       "        vertical-align: middle;\n",
       "    }\n",
       "\n",
       "    .dataframe tbody tr th {\n",
       "        vertical-align: top;\n",
       "    }\n",
       "\n",
       "    .dataframe thead th {\n",
       "        text-align: right;\n",
       "    }\n",
       "</style>\n",
       "<table border=\"1\" class=\"dataframe\">\n",
       "  <thead>\n",
       "    <tr style=\"text-align: right;\">\n",
       "      <th></th>\n",
       "      <th>tweet_text</th>\n",
       "      <th>sentiment</th>\n",
       "    </tr>\n",
       "  </thead>\n",
       "  <tbody>\n",
       "    <tr>\n",
       "      <th>490646</th>\n",
       "      <td>vou tent post hoj nen jur to tod enrol faculda...</td>\n",
       "      <td>0</td>\n",
       "    </tr>\n",
       "    <tr>\n",
       "      <th>449026</th>\n",
       "      <td>luiz deix soft :(</td>\n",
       "      <td>0</td>\n",
       "    </tr>\n",
       "    <tr>\n",
       "      <th>124070</th>\n",
       "      <td>jurooooo bue mental abert que qd mand pi and p...</td>\n",
       "      <td>1</td>\n",
       "    </tr>\n",
       "    <tr>\n",
       "      <th>410828</th>\n",
       "      <td>irma agr vai volt viag vou dorm cm filh :( tao...</td>\n",
       "      <td>0</td>\n",
       "    </tr>\n",
       "    <tr>\n",
       "      <th>332387</th>\n",
       "      <td>ti :(</td>\n",
       "      <td>0</td>\n",
       "    </tr>\n",
       "  </tbody>\n",
       "</table>\n",
       "</div>"
      ],
      "text/plain": [
       "                                               tweet_text  sentiment\n",
       "490646  vou tent post hoj nen jur to tod enrol faculda...          0\n",
       "449026                                  luiz deix soft :(          0\n",
       "124070  jurooooo bue mental abert que qd mand pi and p...          1\n",
       "410828  irma agr vai volt viag vou dorm cm filh :( tao...          0\n",
       "332387                                              ti :(          0"
      ]
     },
     "execution_count": 4,
     "metadata": {},
     "output_type": "execute_result"
    }
   ],
   "source": [
    "dataset.sample(5)"
   ]
  },
  {
   "cell_type": "markdown",
   "metadata": {},
   "source": [
    "### Separa os dados"
   ]
  },
  {
   "cell_type": "code",
   "execution_count": 5,
   "metadata": {},
   "outputs": [],
   "source": [
    "# dados para o cross validate\n",
    "x = dataset.tweet_text\n",
    "y = dataset.sentiment\n",
    "\n",
    "# dados para treino e teste\n",
    "treino, teste, classe_treino, classe_teste = train_test_split(\n",
    "    dataset,\n",
    "    dataset.sentiment,\n",
    "    test_size= 0.2,\n",
    "    random_state = 0)"
   ]
  },
  {
   "cell_type": "markdown",
   "metadata": {},
   "source": [
    "### Aplicando o TF-IDF e o 2-grams"
   ]
  },
  {
   "cell_type": "code",
   "execution_count": 6,
   "metadata": {},
   "outputs": [],
   "source": [
    "tfidf = TfidfVectorizer(lowercase = False , \n",
    "                        ngram_range = (1,2),\n",
    "                        analyzer = 'word',\n",
    "                        token_pattern = \"([\\w']+|:\\(|:-\\(|:-\\)|:\\)|:\\/)\",\n",
    "                        max_features = 250)\n",
    "\n",
    "# to string\n",
    "treino = treino.tweet_text.apply(lambda tweet: np.str_(tweet))\n",
    "teste = teste.tweet_text.apply(lambda tweet: np.str_(tweet))\n",
    "\n",
    "x = x.apply(lambda tweet: np.str_(tweet))\n",
    "y = y.apply(lambda tweet: np.str_(tweet))\n",
    "\n",
    "tfidf.fit(x)\n",
    "\n",
    "treino_vectorized = tfidf.transform(treino)\n",
    "teste_vectorized = tfidf.transform(teste)\n",
    "\n",
    "x_vectorized = tfidf.transform(x)"
   ]
  },
  {
   "cell_type": "code",
   "execution_count": 7,
   "metadata": {},
   "outputs": [
    {
     "data": {
      "text/html": [
       "<div>\n",
       "<style scoped>\n",
       "    .dataframe tbody tr th:only-of-type {\n",
       "        vertical-align: middle;\n",
       "    }\n",
       "\n",
       "    .dataframe tbody tr th {\n",
       "        vertical-align: top;\n",
       "    }\n",
       "\n",
       "    .dataframe thead th {\n",
       "        text-align: right;\n",
       "    }\n",
       "</style>\n",
       "<table border=\"1\" class=\"dataframe\">\n",
       "  <thead>\n",
       "    <tr style=\"text-align: right;\">\n",
       "      <th></th>\n",
       "      <th>:(</th>\n",
       "      <th>:)</th>\n",
       "      <th>:-(</th>\n",
       "      <th>:-)</th>\n",
       "      <th>abrac</th>\n",
       "      <th>acab</th>\n",
       "      <th>ach</th>\n",
       "      <th>acontec</th>\n",
       "      <th>acord</th>\n",
       "      <th>acredit</th>\n",
       "      <th>...</th>\n",
       "      <th>vez</th>\n",
       "      <th>vi</th>\n",
       "      <th>vid</th>\n",
       "      <th>vide</th>\n",
       "      <th>vir</th>\n",
       "      <th>viv</th>\n",
       "      <th>volt</th>\n",
       "      <th>vontad</th>\n",
       "      <th>vot</th>\n",
       "      <th>vou</th>\n",
       "    </tr>\n",
       "  </thead>\n",
       "  <tbody>\n",
       "    <tr>\n",
       "      <th>0</th>\n",
       "      <td>0.000000</td>\n",
       "      <td>0.000000</td>\n",
       "      <td>0.0</td>\n",
       "      <td>0.0</td>\n",
       "      <td>0.0</td>\n",
       "      <td>0.0</td>\n",
       "      <td>0.0</td>\n",
       "      <td>0.0</td>\n",
       "      <td>0.0</td>\n",
       "      <td>0.0</td>\n",
       "      <td>...</td>\n",
       "      <td>0.0</td>\n",
       "      <td>0.0</td>\n",
       "      <td>0.0</td>\n",
       "      <td>0.0</td>\n",
       "      <td>0.0</td>\n",
       "      <td>0.0</td>\n",
       "      <td>0.0</td>\n",
       "      <td>0.0</td>\n",
       "      <td>0.0</td>\n",
       "      <td>0.000000</td>\n",
       "    </tr>\n",
       "    <tr>\n",
       "      <th>1</th>\n",
       "      <td>0.000000</td>\n",
       "      <td>0.091386</td>\n",
       "      <td>0.0</td>\n",
       "      <td>0.0</td>\n",
       "      <td>0.0</td>\n",
       "      <td>0.0</td>\n",
       "      <td>0.0</td>\n",
       "      <td>0.0</td>\n",
       "      <td>0.0</td>\n",
       "      <td>0.0</td>\n",
       "      <td>...</td>\n",
       "      <td>0.0</td>\n",
       "      <td>0.0</td>\n",
       "      <td>0.0</td>\n",
       "      <td>0.0</td>\n",
       "      <td>0.0</td>\n",
       "      <td>0.0</td>\n",
       "      <td>0.0</td>\n",
       "      <td>0.0</td>\n",
       "      <td>0.0</td>\n",
       "      <td>0.379149</td>\n",
       "    </tr>\n",
       "    <tr>\n",
       "      <th>2</th>\n",
       "      <td>0.000000</td>\n",
       "      <td>0.194459</td>\n",
       "      <td>0.0</td>\n",
       "      <td>0.0</td>\n",
       "      <td>0.0</td>\n",
       "      <td>0.0</td>\n",
       "      <td>0.0</td>\n",
       "      <td>0.0</td>\n",
       "      <td>0.0</td>\n",
       "      <td>0.0</td>\n",
       "      <td>...</td>\n",
       "      <td>0.0</td>\n",
       "      <td>0.0</td>\n",
       "      <td>0.0</td>\n",
       "      <td>0.0</td>\n",
       "      <td>0.0</td>\n",
       "      <td>0.0</td>\n",
       "      <td>0.0</td>\n",
       "      <td>0.0</td>\n",
       "      <td>0.0</td>\n",
       "      <td>0.000000</td>\n",
       "    </tr>\n",
       "    <tr>\n",
       "      <th>3</th>\n",
       "      <td>0.124087</td>\n",
       "      <td>0.000000</td>\n",
       "      <td>0.0</td>\n",
       "      <td>0.0</td>\n",
       "      <td>0.0</td>\n",
       "      <td>0.0</td>\n",
       "      <td>0.0</td>\n",
       "      <td>0.0</td>\n",
       "      <td>0.0</td>\n",
       "      <td>0.0</td>\n",
       "      <td>...</td>\n",
       "      <td>0.0</td>\n",
       "      <td>0.0</td>\n",
       "      <td>0.0</td>\n",
       "      <td>0.0</td>\n",
       "      <td>0.0</td>\n",
       "      <td>0.0</td>\n",
       "      <td>0.0</td>\n",
       "      <td>0.0</td>\n",
       "      <td>0.0</td>\n",
       "      <td>0.290749</td>\n",
       "    </tr>\n",
       "    <tr>\n",
       "      <th>4</th>\n",
       "      <td>0.000000</td>\n",
       "      <td>0.252699</td>\n",
       "      <td>0.0</td>\n",
       "      <td>0.0</td>\n",
       "      <td>0.0</td>\n",
       "      <td>0.0</td>\n",
       "      <td>0.0</td>\n",
       "      <td>0.0</td>\n",
       "      <td>0.0</td>\n",
       "      <td>0.0</td>\n",
       "      <td>...</td>\n",
       "      <td>0.0</td>\n",
       "      <td>0.0</td>\n",
       "      <td>0.0</td>\n",
       "      <td>0.0</td>\n",
       "      <td>0.0</td>\n",
       "      <td>0.0</td>\n",
       "      <td>0.0</td>\n",
       "      <td>0.0</td>\n",
       "      <td>0.0</td>\n",
       "      <td>0.000000</td>\n",
       "    </tr>\n",
       "  </tbody>\n",
       "</table>\n",
       "<p>5 rows × 250 columns</p>\n",
       "</div>"
      ],
      "text/plain": [
       "         :(        :)  :-(  :-)  abrac  acab  ach  acontec  acord  acredit  \\\n",
       "0  0.000000  0.000000  0.0  0.0    0.0   0.0  0.0      0.0    0.0      0.0   \n",
       "1  0.000000  0.091386  0.0  0.0    0.0   0.0  0.0      0.0    0.0      0.0   \n",
       "2  0.000000  0.194459  0.0  0.0    0.0   0.0  0.0      0.0    0.0      0.0   \n",
       "3  0.124087  0.000000  0.0  0.0    0.0   0.0  0.0      0.0    0.0      0.0   \n",
       "4  0.000000  0.252699  0.0  0.0    0.0   0.0  0.0      0.0    0.0      0.0   \n",
       "\n",
       "   ...  vez   vi  vid  vide  vir  viv  volt  vontad  vot       vou  \n",
       "0  ...  0.0  0.0  0.0   0.0  0.0  0.0   0.0     0.0  0.0  0.000000  \n",
       "1  ...  0.0  0.0  0.0   0.0  0.0  0.0   0.0     0.0  0.0  0.379149  \n",
       "2  ...  0.0  0.0  0.0   0.0  0.0  0.0   0.0     0.0  0.0  0.000000  \n",
       "3  ...  0.0  0.0  0.0   0.0  0.0  0.0   0.0     0.0  0.0  0.290749  \n",
       "4  ...  0.0  0.0  0.0   0.0  0.0  0.0   0.0     0.0  0.0  0.000000  \n",
       "\n",
       "[5 rows x 250 columns]"
      ]
     },
     "execution_count": 7,
     "metadata": {},
     "output_type": "execute_result"
    }
   ],
   "source": [
    "dense = pd.DataFrame(\n",
    "    treino_vectorized.todense(),\n",
    "    columns = tfidf.get_feature_names()\n",
    ")\n",
    "dense.head(5)"
   ]
  },
  {
   "cell_type": "code",
   "execution_count": 8,
   "metadata": {},
   "outputs": [
    {
     "name": "stdout",
     "output_type": "stream",
     "text": [
      "[':(', ':)', ':-(', ':-)', 'abrac', 'acab', 'ach', 'acontec', 'acord', 'acredit', 'ador', 'agor', 'agr', 'ah', 'ai', 'aind', 'ajud', 'alg', 'algu', 'algum', 'am', 'amanh', 'amig', 'amo', 'and', 'anj', 'ano', 'ant', 'aqu', 'assim', 'assist', 'aul', 'beb', 'bem', 'boa', 'bom', 'bom dia', 'bonit', 'brasil', 'cabel', 'cad', 'car', 'cas', 'cert', 'cham', 'cheg', 'chor', 'cmg', 'cois', 'com', 'comec', 'comig', 'compr', 'conhec', 'consegu', 'consig', 'cont', 'continu', 'convers', 'coraca', 'curt', 'da', 'dar', 'deix', 'demal', 'desculp', 'dess', 'deu', 'dev', 'dia', 'diss', 'diz', 'dm', 'doi', 'dor', 'dorm', 'eh', 'enta', 'entend', 'entr', 'escol', 'esper', 'esquec', 'est', 'estud', 'fac', 'fal', 'falt', 'favor', 'faz', 'feliz', 'fic', 'final', 'fiq', 'fiz', 'fod', 'fof', 'fot', 'ganh', 'gent', 'gost', 'gt', 'gt :(', 'hj', 'hoj', 'hor', 'ia', 'import', 'infeliz', 'ir', 'ja', 'jog', 'la', 'legal', 'lembr', 'lev', 'lind', 'livr', 'log', 'lt', 'mae', 'mal', 'man', 'mand', 'mat', 'med', 'mei', 'melhor', 'menin', 'menos', 'merd', 'mesm', 'mim', 'morr', 'mt', 'mud', 'muit', 'mund', 'music', 'nad', 'namor', 'nao', 'ne', 'nen', 'nenhum', 'ness', 'ning', 'noit', 'nov', 'nunc', 'obrig', 'obrig :)', 'oi', 'ok', 'olh', 'ond', 'ont', 'outr', 'ouv', 'par', 'parab', 'parec', 'part', 'pass', 'ped', 'peg', 'pen', 'pens', 'perd', 'pergunt', 'pesso', 'pi', 'pod', 'poi', 'porqu', 'poss', 'post', 'pouc', 'pox', 'pq', 'precis', 'prim', 'pro', 'qu', 'qualqu', 'quant', 'quas', 'quer', 'quis', 'real', 'respond', 'ruim', 'sab', 'sair', 'saudad', 'sdd', 'segu', 'segund', 'sei', 'seman', 'sempr', 'sent', 'ser', 'seri', 'sim', 'sint', 'so', 'sobr', 'sonh', 'ta', 'tant', 'tao', 'tard', 'tav', 'tb', 'tbm', 'temp', 'tent', 'ter', 'tip', 'tir', 'to', 'tod', 'tom', 'trabalh', 'trist', 'trist :(', 'tud', 'ult', 'um', 'us', 'vai', 'vai ser', 'val', 'vam', 'vc', 'vem', 'vend', 'ver', 'verdad', 'vez', 'vi', 'vid', 'vide', 'vir', 'viv', 'volt', 'vontad', 'vot', 'vou']\n"
     ]
    }
   ],
   "source": [
    "print(tfidf.get_feature_names())"
   ]
  },
  {
   "cell_type": "markdown",
   "metadata": {},
   "source": [
    "### Funções para auxiliar na classificação"
   ]
  },
  {
   "cell_type": "code",
   "execution_count": 9,
   "metadata": {},
   "outputs": [],
   "source": [
    "def crossvalidate(modelo):\n",
    "    cv = StratifiedKFold( n_splits = 5 , shuffle = True)\n",
    "\n",
    "    results = cross_validate(modelo , \n",
    "                             x_vectorized.toarray(),\n",
    "                             y, \n",
    "                             cv = cv , \n",
    "                             return_train_score = True)\n",
    "    media = results['test_score'].mean()\n",
    "    desvio_padrao = results['test_score'].std()\n",
    "    print(\"Accuracy mean CV: %f%%\" % (media * 100))\n",
    "    print(\"Accuracy CV[%f%%, %f%%]\" % \n",
    "          ((media - 2 *desvio_padrao) * 100, \n",
    "           (media + 2 * desvio_padrao) * 100))\n",
    "    \n",
    "def treino_teste(modelo):\n",
    "    start = time.time()\n",
    "    modelo.fit(treino_vectorized,classe_treino)\n",
    "    end = time.time()\n",
    "    fit_time = end - start\n",
    "    print('[Fit time : %f segundos]' % (fit_time))\n",
    "\n",
    "    predict = modelo.predict(teste_vectorized)\n",
    "    acc_score = accuracy_score(classe_teste, predict)\n",
    "    print(\"[Acc score %f%%]\\n\\n\" % (acc_score*100))\n",
    "    \n",
    "    print(\"Confusion Matrix\")\n",
    "    print(confusion_matrix(classe_teste, predict))\n",
    "    print('\\n\\n')\n",
    "    print(classification_report(classe_teste, predict))"
   ]
  },
  {
   "cell_type": "markdown",
   "metadata": {},
   "source": [
    "## Regressão Logística"
   ]
  },
  {
   "cell_type": "code",
   "execution_count": 10,
   "metadata": {},
   "outputs": [
    {
     "name": "stdout",
     "output_type": "stream",
     "text": [
      "Accuracy mean CV: 99.810959%\n",
      "Accuracy CV[99.782776%, 99.839142%]\n"
     ]
    }
   ],
   "source": [
    "modelo = LogisticRegression(solver = 'lbfgs' , C = 10 ,max_iter = 250)\n",
    "crossvalidate(modelo)"
   ]
  },
  {
   "cell_type": "code",
   "execution_count": 11,
   "metadata": {},
   "outputs": [
    {
     "name": "stdout",
     "output_type": "stream",
     "text": [
      "[Fit time : 3.991187 segundos]\n",
      "[Acc score 99.816993%]\n",
      "\n",
      "\n",
      "Confusion Matrix\n",
      "[[49602   141]\n",
      " [   41 49666]]\n",
      "\n",
      "\n",
      "\n",
      "              precision    recall  f1-score   support\n",
      "\n",
      "           0       1.00      1.00      1.00     49743\n",
      "           1       1.00      1.00      1.00     49707\n",
      "\n",
      "    accuracy                           1.00     99450\n",
      "   macro avg       1.00      1.00      1.00     99450\n",
      "weighted avg       1.00      1.00      1.00     99450\n",
      "\n"
     ]
    }
   ],
   "source": [
    "treino_teste(modelo)"
   ]
  },
  {
   "cell_type": "markdown",
   "metadata": {},
   "source": [
    "#### Mostra os maiores pesos ( sentimento positivo)"
   ]
  },
  {
   "cell_type": "code",
   "execution_count": 12,
   "metadata": {},
   "outputs": [
    {
     "data": {
      "text/html": [
       "<div>\n",
       "<style scoped>\n",
       "    .dataframe tbody tr th:only-of-type {\n",
       "        vertical-align: middle;\n",
       "    }\n",
       "\n",
       "    .dataframe tbody tr th {\n",
       "        vertical-align: top;\n",
       "    }\n",
       "\n",
       "    .dataframe thead th {\n",
       "        text-align: right;\n",
       "    }\n",
       "</style>\n",
       "<table border=\"1\" class=\"dataframe\">\n",
       "  <thead>\n",
       "    <tr style=\"text-align: right;\">\n",
       "      <th></th>\n",
       "      <th>0</th>\n",
       "    </tr>\n",
       "  </thead>\n",
       "  <tbody>\n",
       "    <tr>\n",
       "      <th>:)</th>\n",
       "      <td>54.249605</td>\n",
       "    </tr>\n",
       "    <tr>\n",
       "      <th>:-)</th>\n",
       "      <td>8.046323</td>\n",
       "    </tr>\n",
       "    <tr>\n",
       "      <th>parab</th>\n",
       "      <td>1.473287</td>\n",
       "    </tr>\n",
       "    <tr>\n",
       "      <th>bom</th>\n",
       "      <td>0.793572</td>\n",
       "    </tr>\n",
       "    <tr>\n",
       "      <th>val</th>\n",
       "      <td>0.534693</td>\n",
       "    </tr>\n",
       "    <tr>\n",
       "      <th>boa</th>\n",
       "      <td>0.530428</td>\n",
       "    </tr>\n",
       "    <tr>\n",
       "      <th>obrig</th>\n",
       "      <td>0.506088</td>\n",
       "    </tr>\n",
       "    <tr>\n",
       "      <th>quis</th>\n",
       "      <td>0.465115</td>\n",
       "    </tr>\n",
       "    <tr>\n",
       "      <th>feliz</th>\n",
       "      <td>0.443555</td>\n",
       "    </tr>\n",
       "    <tr>\n",
       "      <th>and</th>\n",
       "      <td>0.359272</td>\n",
       "    </tr>\n",
       "  </tbody>\n",
       "</table>\n",
       "</div>"
      ],
      "text/plain": [
       "               0\n",
       ":)     54.249605\n",
       ":-)     8.046323\n",
       "parab   1.473287\n",
       "bom     0.793572\n",
       "val     0.534693\n",
       "boa     0.530428\n",
       "obrig   0.506088\n",
       "quis    0.465115\n",
       "feliz   0.443555\n",
       "and     0.359272"
      ]
     },
     "execution_count": 12,
     "metadata": {},
     "output_type": "execute_result"
    }
   ],
   "source": [
    "weight = pd.DataFrame(\n",
    "    # peso de cada termo\n",
    "    modelo.coef_[0].T,\n",
    "    index = tfidf.get_feature_names()\n",
    ") \n",
    "# 0 = coluna do Dataframe\n",
    "weight.nlargest(10,0)"
   ]
  },
  {
   "cell_type": "markdown",
   "metadata": {},
   "source": [
    "#### Mostra os menores pesos ( sentimento negativo)"
   ]
  },
  {
   "cell_type": "code",
   "execution_count": 13,
   "metadata": {},
   "outputs": [
    {
     "data": {
      "text/html": [
       "<div>\n",
       "<style scoped>\n",
       "    .dataframe tbody tr th:only-of-type {\n",
       "        vertical-align: middle;\n",
       "    }\n",
       "\n",
       "    .dataframe tbody tr th {\n",
       "        vertical-align: top;\n",
       "    }\n",
       "\n",
       "    .dataframe thead th {\n",
       "        text-align: right;\n",
       "    }\n",
       "</style>\n",
       "<table border=\"1\" class=\"dataframe\">\n",
       "  <thead>\n",
       "    <tr style=\"text-align: right;\">\n",
       "      <th></th>\n",
       "      <th>0</th>\n",
       "    </tr>\n",
       "  </thead>\n",
       "  <tbody>\n",
       "    <tr>\n",
       "      <th>:(</th>\n",
       "      <td>-68.491277</td>\n",
       "    </tr>\n",
       "    <tr>\n",
       "      <th>:-(</th>\n",
       "      <td>-18.055860</td>\n",
       "    </tr>\n",
       "    <tr>\n",
       "      <th>trist</th>\n",
       "      <td>-4.490042</td>\n",
       "    </tr>\n",
       "    <tr>\n",
       "      <th>obrig :)</th>\n",
       "      <td>-3.445602</td>\n",
       "    </tr>\n",
       "    <tr>\n",
       "      <th>amo</th>\n",
       "      <td>-3.331282</td>\n",
       "    </tr>\n",
       "    <tr>\n",
       "      <th>pox</th>\n",
       "      <td>-3.286808</td>\n",
       "    </tr>\n",
       "    <tr>\n",
       "      <th>saudad</th>\n",
       "      <td>-3.278211</td>\n",
       "    </tr>\n",
       "    <tr>\n",
       "      <th>quer</th>\n",
       "      <td>-2.877087</td>\n",
       "    </tr>\n",
       "    <tr>\n",
       "      <th>sint</th>\n",
       "      <td>-2.840461</td>\n",
       "    </tr>\n",
       "    <tr>\n",
       "      <th>sdd</th>\n",
       "      <td>-2.810356</td>\n",
       "    </tr>\n",
       "  </tbody>\n",
       "</table>\n",
       "</div>"
      ],
      "text/plain": [
       "                  0\n",
       ":(       -68.491277\n",
       ":-(      -18.055860\n",
       "trist     -4.490042\n",
       "obrig :)  -3.445602\n",
       "amo       -3.331282\n",
       "pox       -3.286808\n",
       "saudad    -3.278211\n",
       "quer      -2.877087\n",
       "sint      -2.840461\n",
       "sdd       -2.810356"
      ]
     },
     "execution_count": 13,
     "metadata": {},
     "output_type": "execute_result"
    }
   ],
   "source": [
    "# 0 = coluna do Dataframe\n",
    "weight.nsmallest(10,0)"
   ]
  },
  {
   "cell_type": "markdown",
   "metadata": {},
   "source": [
    "## SVM"
   ]
  },
  {
   "cell_type": "code",
   "execution_count": 15,
   "metadata": {},
   "outputs": [
    {
     "name": "stdout",
     "output_type": "stream",
     "text": [
      "Accuracy mean CV: 99.808948%\n",
      "Accuracy CV[99.788243%, 99.829654%]\n"
     ]
    }
   ],
   "source": [
    "modelo = LinearSVC(random_state=0, tol=1e-5)\n",
    "crossvalidate(modelo)"
   ]
  },
  {
   "cell_type": "code",
   "execution_count": 18,
   "metadata": {},
   "outputs": [
    {
     "name": "stdout",
     "output_type": "stream",
     "text": [
      "[Fit time : 1.836426 segundos]\n",
      "[Acc score 99.815988%]\n",
      "\n",
      "\n",
      "Confusion Matrix\n",
      "[[49602   141]\n",
      " [   42 49665]]\n",
      "\n",
      "\n",
      "\n",
      "              precision    recall  f1-score   support\n",
      "\n",
      "           0       1.00      1.00      1.00     49743\n",
      "           1       1.00      1.00      1.00     49707\n",
      "\n",
      "    accuracy                           1.00     99450\n",
      "   macro avg       1.00      1.00      1.00     99450\n",
      "weighted avg       1.00      1.00      1.00     99450\n",
      "\n"
     ]
    }
   ],
   "source": [
    "treino_teste(modelo)"
   ]
  },
  {
   "cell_type": "markdown",
   "metadata": {},
   "source": [
    "#### Mostra os maiores pesos ( sentimento positivo)"
   ]
  },
  {
   "cell_type": "code",
   "execution_count": 19,
   "metadata": {},
   "outputs": [
    {
     "data": {
      "text/html": [
       "<div>\n",
       "<style scoped>\n",
       "    .dataframe tbody tr th:only-of-type {\n",
       "        vertical-align: middle;\n",
       "    }\n",
       "\n",
       "    .dataframe tbody tr th {\n",
       "        vertical-align: top;\n",
       "    }\n",
       "\n",
       "    .dataframe thead th {\n",
       "        text-align: right;\n",
       "    }\n",
       "</style>\n",
       "<table border=\"1\" class=\"dataframe\">\n",
       "  <thead>\n",
       "    <tr style=\"text-align: right;\">\n",
       "      <th></th>\n",
       "      <th>0</th>\n",
       "    </tr>\n",
       "  </thead>\n",
       "  <tbody>\n",
       "    <tr>\n",
       "      <th>:)</th>\n",
       "      <td>11.899504</td>\n",
       "    </tr>\n",
       "    <tr>\n",
       "      <th>:-)</th>\n",
       "      <td>1.549974</td>\n",
       "    </tr>\n",
       "    <tr>\n",
       "      <th>parab</th>\n",
       "      <td>0.103544</td>\n",
       "    </tr>\n",
       "    <tr>\n",
       "      <th>bom</th>\n",
       "      <td>-0.008110</td>\n",
       "    </tr>\n",
       "    <tr>\n",
       "      <th>boa</th>\n",
       "      <td>-0.055013</td>\n",
       "    </tr>\n",
       "    <tr>\n",
       "      <th>quis</th>\n",
       "      <td>-0.055478</td>\n",
       "    </tr>\n",
       "    <tr>\n",
       "      <th>feliz</th>\n",
       "      <td>-0.060434</td>\n",
       "    </tr>\n",
       "    <tr>\n",
       "      <th>val</th>\n",
       "      <td>-0.063477</td>\n",
       "    </tr>\n",
       "    <tr>\n",
       "      <th>obrig</th>\n",
       "      <td>-0.070316</td>\n",
       "    </tr>\n",
       "    <tr>\n",
       "      <th>bom dia</th>\n",
       "      <td>-0.086478</td>\n",
       "    </tr>\n",
       "  </tbody>\n",
       "</table>\n",
       "</div>"
      ],
      "text/plain": [
       "                 0\n",
       ":)       11.899504\n",
       ":-)       1.549974\n",
       "parab     0.103544\n",
       "bom      -0.008110\n",
       "boa      -0.055013\n",
       "quis     -0.055478\n",
       "feliz    -0.060434\n",
       "val      -0.063477\n",
       "obrig    -0.070316\n",
       "bom dia  -0.086478"
      ]
     },
     "execution_count": 19,
     "metadata": {},
     "output_type": "execute_result"
    }
   ],
   "source": [
    "weight = pd.DataFrame(\n",
    "    # peso de cada termo\n",
    "    modelo.coef_[0].T,\n",
    "    index = tfidf.get_feature_names()\n",
    ") \n",
    "# 0 = coluna do Dataframe\n",
    "weight.nlargest(10,0)"
   ]
  },
  {
   "cell_type": "markdown",
   "metadata": {},
   "source": [
    "#### Mostra os menores pesos ( sentimento negativo)"
   ]
  },
  {
   "cell_type": "code",
   "execution_count": 20,
   "metadata": {},
   "outputs": [
    {
     "data": {
      "text/html": [
       "<div>\n",
       "<style scoped>\n",
       "    .dataframe tbody tr th:only-of-type {\n",
       "        vertical-align: middle;\n",
       "    }\n",
       "\n",
       "    .dataframe tbody tr th {\n",
       "        vertical-align: top;\n",
       "    }\n",
       "\n",
       "    .dataframe thead th {\n",
       "        text-align: right;\n",
       "    }\n",
       "</style>\n",
       "<table border=\"1\" class=\"dataframe\">\n",
       "  <thead>\n",
       "    <tr style=\"text-align: right;\">\n",
       "      <th></th>\n",
       "      <th>0</th>\n",
       "    </tr>\n",
       "  </thead>\n",
       "  <tbody>\n",
       "    <tr>\n",
       "      <th>:(</th>\n",
       "      <td>-14.451294</td>\n",
       "    </tr>\n",
       "    <tr>\n",
       "      <th>:-(</th>\n",
       "      <td>-4.416612</td>\n",
       "    </tr>\n",
       "    <tr>\n",
       "      <th>trist</th>\n",
       "      <td>-0.937906</td>\n",
       "    </tr>\n",
       "    <tr>\n",
       "      <th>obrig :)</th>\n",
       "      <td>-0.903237</td>\n",
       "    </tr>\n",
       "    <tr>\n",
       "      <th>amo</th>\n",
       "      <td>-0.749568</td>\n",
       "    </tr>\n",
       "    <tr>\n",
       "      <th>infeliz</th>\n",
       "      <td>-0.724233</td>\n",
       "    </tr>\n",
       "    <tr>\n",
       "      <th>pox</th>\n",
       "      <td>-0.681379</td>\n",
       "    </tr>\n",
       "    <tr>\n",
       "      <th>saudad</th>\n",
       "      <td>-0.661827</td>\n",
       "    </tr>\n",
       "    <tr>\n",
       "      <th>anj</th>\n",
       "      <td>-0.654989</td>\n",
       "    </tr>\n",
       "    <tr>\n",
       "      <th>sint</th>\n",
       "      <td>-0.645004</td>\n",
       "    </tr>\n",
       "  </tbody>\n",
       "</table>\n",
       "</div>"
      ],
      "text/plain": [
       "                  0\n",
       ":(       -14.451294\n",
       ":-(       -4.416612\n",
       "trist     -0.937906\n",
       "obrig :)  -0.903237\n",
       "amo       -0.749568\n",
       "infeliz   -0.724233\n",
       "pox       -0.681379\n",
       "saudad    -0.661827\n",
       "anj       -0.654989\n",
       "sint      -0.645004"
      ]
     },
     "execution_count": 20,
     "metadata": {},
     "output_type": "execute_result"
    }
   ],
   "source": [
    "# 0 = coluna do Dataframe\n",
    "weight.nsmallest(10,0)"
   ]
  },
  {
   "cell_type": "markdown",
   "metadata": {},
   "source": [
    "## Decision Tree Classifier"
   ]
  },
  {
   "cell_type": "code",
   "execution_count": 21,
   "metadata": {},
   "outputs": [
    {
     "name": "stdout",
     "output_type": "stream",
     "text": [
      "Accuracy mean CV: 99.809350%\n",
      "Accuracy CV[99.792449%, 99.826251%]\n"
     ]
    }
   ],
   "source": [
    "modelo = DecisionTreeClassifier(random_state=0,max_depth = 10)\n",
    "crossvalidate(modelo)"
   ]
  },
  {
   "cell_type": "code",
   "execution_count": 22,
   "metadata": {},
   "outputs": [
    {
     "name": "stdout",
     "output_type": "stream",
     "text": [
      "[Fit time : 3.140998 segundos]\n",
      "[Acc score 99.815988%]\n",
      "\n",
      "\n",
      "Confusion Matrix\n",
      "[[49609   134]\n",
      " [   49 49658]]\n",
      "\n",
      "\n",
      "\n",
      "              precision    recall  f1-score   support\n",
      "\n",
      "           0       1.00      1.00      1.00     49743\n",
      "           1       1.00      1.00      1.00     49707\n",
      "\n",
      "    accuracy                           1.00     99450\n",
      "   macro avg       1.00      1.00      1.00     99450\n",
      "weighted avg       1.00      1.00      1.00     99450\n",
      "\n"
     ]
    }
   ],
   "source": [
    "treino_teste(modelo)"
   ]
  },
  {
   "cell_type": "markdown",
   "metadata": {},
   "source": [
    "## Random Forest Classifier"
   ]
  },
  {
   "cell_type": "code",
   "execution_count": 23,
   "metadata": {},
   "outputs": [
    {
     "name": "stdout",
     "output_type": "stream",
     "text": [
      "Accuracy mean CV: 99.802714%\n",
      "Accuracy CV[99.785773%, 99.819654%]\n"
     ]
    }
   ],
   "source": [
    "modelo = RandomForestClassifier(n_estimators=100, max_depth=10,random_state=0)\n",
    "crossvalidate(modelo)"
   ]
  },
  {
   "cell_type": "code",
   "execution_count": 24,
   "metadata": {},
   "outputs": [
    {
     "name": "stdout",
     "output_type": "stream",
     "text": [
      "[Fit time : 38.894793 segundos]\n",
      "[Acc score 99.810960%]\n",
      "\n",
      "\n",
      "Confusion Matrix\n",
      "[[49601   142]\n",
      " [   46 49661]]\n",
      "\n",
      "\n",
      "\n",
      "              precision    recall  f1-score   support\n",
      "\n",
      "           0       1.00      1.00      1.00     49743\n",
      "           1       1.00      1.00      1.00     49707\n",
      "\n",
      "    accuracy                           1.00     99450\n",
      "   macro avg       1.00      1.00      1.00     99450\n",
      "weighted avg       1.00      1.00      1.00     99450\n",
      "\n"
     ]
    }
   ],
   "source": [
    "treino_teste(modelo)"
   ]
  }
 ],
 "metadata": {
  "kernelspec": {
   "display_name": "Python 3",
   "language": "python",
   "name": "python3"
  },
  "language_info": {
   "codemirror_mode": {
    "name": "ipython",
    "version": 3
   },
   "file_extension": ".py",
   "mimetype": "text/x-python",
   "name": "python",
   "nbconvert_exporter": "python",
   "pygments_lexer": "ipython3",
   "version": "3.7.3"
  }
 },
 "nbformat": 4,
 "nbformat_minor": 2
}
