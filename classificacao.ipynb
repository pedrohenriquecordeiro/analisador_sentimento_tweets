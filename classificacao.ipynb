{
 "cells": [
  {
   "cell_type": "code",
   "execution_count": 1,
   "metadata": {},
   "outputs": [],
   "source": [
    "import pandas as pd\n",
    "import numpy as np\n",
    "\n",
    "from sklearn.linear_model import LogisticRegression\n",
    "from sklearn.tree import DecisionTreeClassifier \n",
    "from sklearn.ensemble import RandomForestClassifier\n",
    "from sklearn.svm import LinearSVC\n",
    "\n",
    "from sklearn.feature_extraction.text import TfidfVectorizer\n",
    "from sklearn.model_selection import train_test_split \n",
    "\n",
    "from sklearn.model_selection import StratifiedKFold\n",
    "from sklearn.model_selection import cross_validate\n",
    "\n",
    "import time\n",
    "\n",
    "from sklearn.metrics import accuracy_score\n",
    "from sklearn import metrics\n",
    "from sklearn.metrics import classification_report\n",
    "from sklearn.metrics import confusion_matrix"
   ]
  },
  {
   "cell_type": "markdown",
   "metadata": {},
   "source": [
    "#### Busca dataset"
   ]
  },
  {
   "cell_type": "code",
   "execution_count": 2,
   "metadata": {},
   "outputs": [],
   "source": [
    "dataset  = pd.read_csv('treated_dataset.csv')"
   ]
  },
  {
   "cell_type": "code",
   "execution_count": 3,
   "metadata": {},
   "outputs": [
    {
     "data": {
      "text/plain": [
       "497247"
      ]
     },
     "execution_count": 3,
     "metadata": {},
     "output_type": "execute_result"
    }
   ],
   "source": [
    "len(dataset)"
   ]
  },
  {
   "cell_type": "code",
   "execution_count": 4,
   "metadata": {},
   "outputs": [
    {
     "data": {
      "text/html": [
       "<div>\n",
       "<style scoped>\n",
       "    .dataframe tbody tr th:only-of-type {\n",
       "        vertical-align: middle;\n",
       "    }\n",
       "\n",
       "    .dataframe tbody tr th {\n",
       "        vertical-align: top;\n",
       "    }\n",
       "\n",
       "    .dataframe thead th {\n",
       "        text-align: right;\n",
       "    }\n",
       "</style>\n",
       "<table border=\"1\" class=\"dataframe\">\n",
       "  <thead>\n",
       "    <tr style=\"text-align: right;\">\n",
       "      <th></th>\n",
       "      <th>tweet_text</th>\n",
       "      <th>sentiment</th>\n",
       "    </tr>\n",
       "  </thead>\n",
       "  <tbody>\n",
       "    <tr>\n",
       "      <th>134149</th>\n",
       "      <td>chegamoss :) music qu dar replay lt</td>\n",
       "      <td>1</td>\n",
       "    </tr>\n",
       "    <tr>\n",
       "      <th>348418</th>\n",
       "      <td>quer companh :(</td>\n",
       "      <td>0</td>\n",
       "    </tr>\n",
       "    <tr>\n",
       "      <th>230409</th>\n",
       "      <td>bom diaa :)</td>\n",
       "      <td>1</td>\n",
       "    </tr>\n",
       "    <tr>\n",
       "      <th>297434</th>\n",
       "      <td>hj pass mama rua chei gat gnt ate par tir mei ...</td>\n",
       "      <td>0</td>\n",
       "    </tr>\n",
       "    <tr>\n",
       "      <th>429932</th>\n",
       "      <td>mai car ti meuuu ohhhh :(</td>\n",
       "      <td>0</td>\n",
       "    </tr>\n",
       "  </tbody>\n",
       "</table>\n",
       "</div>"
      ],
      "text/plain": [
       "                                               tweet_text  sentiment\n",
       "134149                chegamoss :) music qu dar replay lt          1\n",
       "348418                                    quer companh :(          0\n",
       "230409                                        bom diaa :)          1\n",
       "297434  hj pass mama rua chei gat gnt ate par tir mei ...          0\n",
       "429932                          mai car ti meuuu ohhhh :(          0"
      ]
     },
     "execution_count": 4,
     "metadata": {},
     "output_type": "execute_result"
    }
   ],
   "source": [
    "dataset.sample(5)"
   ]
  },
  {
   "cell_type": "markdown",
   "metadata": {},
   "source": [
    "### Separa os dados"
   ]
  },
  {
   "cell_type": "code",
   "execution_count": 5,
   "metadata": {},
   "outputs": [],
   "source": [
    "# dados para o cross validate\n",
    "x = dataset.tweet_text\n",
    "y = dataset.sentiment\n",
    "\n",
    "# dados para treino e teste\n",
    "treino, teste, classe_treino, classe_teste = train_test_split(\n",
    "    dataset,\n",
    "    dataset.sentiment,\n",
    "    test_size= 0.2,\n",
    "    random_state = 0)"
   ]
  },
  {
   "cell_type": "markdown",
   "metadata": {},
   "source": [
    "### Aplicando o TF-IDF e o 2-grams"
   ]
  },
  {
   "cell_type": "code",
   "execution_count": 6,
   "metadata": {},
   "outputs": [],
   "source": [
    "tfidf = TfidfVectorizer(lowercase = False , \n",
    "                        ngram_range = (1,2),\n",
    "                        #analyzer = 'word',\n",
    "                        #token_pattern = \"([\\w']+)\",\n",
    "                        max_features = 250)\n",
    "\n",
    "# to string\n",
    "treino = treino.tweet_text.apply(lambda tweet: np.str_(tweet))\n",
    "teste = teste.tweet_text.apply(lambda tweet: np.str_(tweet))\n",
    "\n",
    "x = x.apply(lambda tweet: np.str_(tweet))\n",
    "y = y.apply(lambda tweet: np.str_(tweet))\n",
    "\n",
    "tfidf.fit(x)\n",
    "\n",
    "treino_vectorized = tfidf.transform(treino)\n",
    "teste_vectorized = tfidf.transform(teste)\n",
    "\n",
    "x_vectorized = tfidf.transform(x)"
   ]
  },
  {
   "cell_type": "code",
   "execution_count": 7,
   "metadata": {},
   "outputs": [
    {
     "data": {
      "text/html": [
       "<div>\n",
       "<style scoped>\n",
       "    .dataframe tbody tr th:only-of-type {\n",
       "        vertical-align: middle;\n",
       "    }\n",
       "\n",
       "    .dataframe tbody tr th {\n",
       "        vertical-align: top;\n",
       "    }\n",
       "\n",
       "    .dataframe thead th {\n",
       "        text-align: right;\n",
       "    }\n",
       "</style>\n",
       "<table border=\"1\" class=\"dataframe\">\n",
       "  <thead>\n",
       "    <tr style=\"text-align: right;\">\n",
       "      <th></th>\n",
       "      <th>abrac</th>\n",
       "      <th>acab</th>\n",
       "      <th>ach</th>\n",
       "      <th>acontec</th>\n",
       "      <th>acord</th>\n",
       "      <th>acredit</th>\n",
       "      <th>ador</th>\n",
       "      <th>agor</th>\n",
       "      <th>agr</th>\n",
       "      <th>ah</th>\n",
       "      <th>...</th>\n",
       "      <th>vez</th>\n",
       "      <th>vi</th>\n",
       "      <th>vid</th>\n",
       "      <th>vide</th>\n",
       "      <th>vir</th>\n",
       "      <th>viv</th>\n",
       "      <th>volt</th>\n",
       "      <th>vontad</th>\n",
       "      <th>vot</th>\n",
       "      <th>vou</th>\n",
       "    </tr>\n",
       "  </thead>\n",
       "  <tbody>\n",
       "    <tr>\n",
       "      <th>0</th>\n",
       "      <td>0.0</td>\n",
       "      <td>0.0</td>\n",
       "      <td>0.0</td>\n",
       "      <td>0.0</td>\n",
       "      <td>0.0</td>\n",
       "      <td>0.0</td>\n",
       "      <td>0.0</td>\n",
       "      <td>0.0</td>\n",
       "      <td>0.0</td>\n",
       "      <td>0.0</td>\n",
       "      <td>...</td>\n",
       "      <td>0.0</td>\n",
       "      <td>0.0</td>\n",
       "      <td>0.0</td>\n",
       "      <td>0.0</td>\n",
       "      <td>0.0</td>\n",
       "      <td>0.0</td>\n",
       "      <td>0.0</td>\n",
       "      <td>0.0</td>\n",
       "      <td>0.0</td>\n",
       "      <td>0.000000</td>\n",
       "    </tr>\n",
       "    <tr>\n",
       "      <th>1</th>\n",
       "      <td>0.0</td>\n",
       "      <td>0.0</td>\n",
       "      <td>0.0</td>\n",
       "      <td>0.0</td>\n",
       "      <td>0.0</td>\n",
       "      <td>0.0</td>\n",
       "      <td>0.0</td>\n",
       "      <td>0.0</td>\n",
       "      <td>0.0</td>\n",
       "      <td>0.0</td>\n",
       "      <td>...</td>\n",
       "      <td>0.0</td>\n",
       "      <td>0.0</td>\n",
       "      <td>0.0</td>\n",
       "      <td>0.0</td>\n",
       "      <td>0.0</td>\n",
       "      <td>0.0</td>\n",
       "      <td>0.0</td>\n",
       "      <td>0.0</td>\n",
       "      <td>0.0</td>\n",
       "      <td>0.380766</td>\n",
       "    </tr>\n",
       "    <tr>\n",
       "      <th>2</th>\n",
       "      <td>0.0</td>\n",
       "      <td>0.0</td>\n",
       "      <td>0.0</td>\n",
       "      <td>0.0</td>\n",
       "      <td>0.0</td>\n",
       "      <td>0.0</td>\n",
       "      <td>0.0</td>\n",
       "      <td>0.0</td>\n",
       "      <td>0.0</td>\n",
       "      <td>0.0</td>\n",
       "      <td>...</td>\n",
       "      <td>0.0</td>\n",
       "      <td>0.0</td>\n",
       "      <td>0.0</td>\n",
       "      <td>0.0</td>\n",
       "      <td>0.0</td>\n",
       "      <td>0.0</td>\n",
       "      <td>0.0</td>\n",
       "      <td>0.0</td>\n",
       "      <td>0.0</td>\n",
       "      <td>0.000000</td>\n",
       "    </tr>\n",
       "    <tr>\n",
       "      <th>3</th>\n",
       "      <td>0.0</td>\n",
       "      <td>0.0</td>\n",
       "      <td>0.0</td>\n",
       "      <td>0.0</td>\n",
       "      <td>0.0</td>\n",
       "      <td>0.0</td>\n",
       "      <td>0.0</td>\n",
       "      <td>0.0</td>\n",
       "      <td>0.0</td>\n",
       "      <td>0.0</td>\n",
       "      <td>...</td>\n",
       "      <td>0.0</td>\n",
       "      <td>0.0</td>\n",
       "      <td>0.0</td>\n",
       "      <td>0.0</td>\n",
       "      <td>0.0</td>\n",
       "      <td>0.0</td>\n",
       "      <td>0.0</td>\n",
       "      <td>0.0</td>\n",
       "      <td>0.0</td>\n",
       "      <td>0.293013</td>\n",
       "    </tr>\n",
       "    <tr>\n",
       "      <th>4</th>\n",
       "      <td>0.0</td>\n",
       "      <td>0.0</td>\n",
       "      <td>0.0</td>\n",
       "      <td>0.0</td>\n",
       "      <td>0.0</td>\n",
       "      <td>0.0</td>\n",
       "      <td>0.0</td>\n",
       "      <td>0.0</td>\n",
       "      <td>0.0</td>\n",
       "      <td>0.0</td>\n",
       "      <td>...</td>\n",
       "      <td>0.0</td>\n",
       "      <td>0.0</td>\n",
       "      <td>0.0</td>\n",
       "      <td>0.0</td>\n",
       "      <td>0.0</td>\n",
       "      <td>0.0</td>\n",
       "      <td>0.0</td>\n",
       "      <td>0.0</td>\n",
       "      <td>0.0</td>\n",
       "      <td>0.000000</td>\n",
       "    </tr>\n",
       "  </tbody>\n",
       "</table>\n",
       "<p>5 rows × 250 columns</p>\n",
       "</div>"
      ],
      "text/plain": [
       "   abrac  acab  ach  acontec  acord  acredit  ador  agor  agr   ah  ...  vez  \\\n",
       "0    0.0   0.0  0.0      0.0    0.0      0.0   0.0   0.0  0.0  0.0  ...  0.0   \n",
       "1    0.0   0.0  0.0      0.0    0.0      0.0   0.0   0.0  0.0  0.0  ...  0.0   \n",
       "2    0.0   0.0  0.0      0.0    0.0      0.0   0.0   0.0  0.0  0.0  ...  0.0   \n",
       "3    0.0   0.0  0.0      0.0    0.0      0.0   0.0   0.0  0.0  0.0  ...  0.0   \n",
       "4    0.0   0.0  0.0      0.0    0.0      0.0   0.0   0.0  0.0  0.0  ...  0.0   \n",
       "\n",
       "    vi  vid  vide  vir  viv  volt  vontad  vot       vou  \n",
       "0  0.0  0.0   0.0  0.0  0.0   0.0     0.0  0.0  0.000000  \n",
       "1  0.0  0.0   0.0  0.0  0.0   0.0     0.0  0.0  0.380766  \n",
       "2  0.0  0.0   0.0  0.0  0.0   0.0     0.0  0.0  0.000000  \n",
       "3  0.0  0.0   0.0  0.0  0.0   0.0     0.0  0.0  0.293013  \n",
       "4  0.0  0.0   0.0  0.0  0.0   0.0     0.0  0.0  0.000000  \n",
       "\n",
       "[5 rows x 250 columns]"
      ]
     },
     "execution_count": 7,
     "metadata": {},
     "output_type": "execute_result"
    }
   ],
   "source": [
    "dense = pd.DataFrame(\n",
    "    treino_vectorized.todense(),\n",
    "    columns = tfidf.get_feature_names()\n",
    ")\n",
    "dense.head(5)"
   ]
  },
  {
   "cell_type": "code",
   "execution_count": 8,
   "metadata": {},
   "outputs": [
    {
     "name": "stdout",
     "output_type": "stream",
     "text": [
      "['abrac', 'acab', 'ach', 'acontec', 'acord', 'acredit', 'ador', 'agor', 'agr', 'ah', 'ai', 'aind', 'ajud', 'alg', 'algu', 'algum', 'am', 'amanh', 'amig', 'amo', 'and', 'anj', 'ano', 'ant', 'aqu', 'assim', 'assist', 'aul', 'beb', 'bem', 'boa', 'bom', 'bom dia', 'bonit', 'brasil', 'cabel', 'cad', 'car', 'cas', 'cert', 'cham', 'cheg', 'chor', 'cmg', 'cois', 'com', 'comec', 'comig', 'compr', 'conhec', 'consegu', 'consig', 'cont', 'continu', 'convers', 'coraca', 'curt', 'da', 'dar', 'deix', 'demal', 'desculp', 'dess', 'deu', 'dev', 'dia', 'dificil', 'diss', 'diz', 'dm', 'doi', 'dor', 'dorm', 'eh', 'enta', 'entend', 'entr', 'es', 'escol', 'esper', 'esquec', 'est', 'estud', 'fac', 'fal', 'falt', 'favor', 'faz', 'feliz', 'fic', 'final', 'fiq', 'fiz', 'fod', 'fof', 'fot', 'ganh', 'gent', 'gost', 'gt', 'hj', 'hoj', 'hor', 'ia', 'import', 'infeliz', 'ir', 'ja', 'jog', 'la', 'legal', 'lembr', 'lev', 'lind', 'livr', 'log', 'lt', 'mae', 'mal', 'man', 'mand', 'mat', 'med', 'mei', 'melhor', 'menin', 'menos', 'merd', 'merec', 'mesm', 'mim', 'moment', 'morr', 'mt', 'mud', 'muit', 'mund', 'music', 'nad', 'namor', 'nao', 'ne', 'nen', 'nenhum', 'ness', 'ning', 'noit', 'nov', 'nunc', 'obrig', 'oi', 'ok', 'olh', 'ond', 'ont', 'outr', 'ouv', 'par', 'parab', 'parec', 'part', 'pass', 'ped', 'peg', 'pen', 'pens', 'perd', 'pergunt', 'pesso', 'pi', 'pod', 'poi', 'porqu', 'poss', 'post', 'pouc', 'pox', 'pq', 'precis', 'prim', 'pro', 'prov', 'qu', 'qualqu', 'quant', 'quas', 'quer', 'quis', 'real', 'respond', 'ruim', 'sab', 'sair', 'saudad', 'sdd', 'segu', 'segund', 'sei', 'seman', 'sempr', 'sent', 'ser', 'seri', 'show', 'sim', 'sint', 'so', 'sobr', 'sonh', 'ta', 'tant', 'tao', 'tard', 'tav', 'tb', 'tbm', 'temp', 'tent', 'ter', 'tip', 'tir', 'to', 'to trist', 'tod', 'tom', 'trabalh', 'trist', 'tud', 'ult', 'um', 'us', 'vai', 'vai ser', 'val', 'vam', 'vc', 'vem', 'vend', 'ver', 'verdad', 'vez', 'vi', 'vid', 'vide', 'vir', 'viv', 'volt', 'vontad', 'vot', 'vou']\n"
     ]
    }
   ],
   "source": [
    "print(tfidf.get_feature_names())"
   ]
  },
  {
   "cell_type": "markdown",
   "metadata": {},
   "source": [
    "### Funções para auxiliar na classificação"
   ]
  },
  {
   "cell_type": "code",
   "execution_count": 9,
   "metadata": {},
   "outputs": [],
   "source": [
    "def crossvalidate(modelo):\n",
    "    cv = StratifiedKFold( n_splits = 5 , shuffle = True)\n",
    "\n",
    "    results = cross_validate(modelo , \n",
    "                             x_vectorized.toarray(),\n",
    "                             y, \n",
    "                             cv = cv , \n",
    "                             return_train_score = True)\n",
    "    media = results['test_score'].mean()\n",
    "    desvio_padrao = results['test_score'].std()\n",
    "    print(\"Accuracy mean CV: %f%%\" % (media * 100))\n",
    "    print(\"Accuracy CV[%f%%, %f%%]\" % \n",
    "          ((media - 2 *desvio_padrao) * 100, \n",
    "           (media + 2 * desvio_padrao) * 100))\n",
    "    \n",
    "def treino_teste(modelo):\n",
    "    start = time.time()\n",
    "    modelo.fit(treino_vectorized,classe_treino)\n",
    "    end = time.time()\n",
    "    fit_time = end - start\n",
    "    print('[Fit time : %f segundos]' % (fit_time))\n",
    "\n",
    "    predict = modelo.predict(teste_vectorized)\n",
    "    acc_score = accuracy_score(classe_teste, predict)\n",
    "    print(\"[Acc score %f%%]\\n\\n\" % (acc_score*100))\n",
    "    \n",
    "    print(\"Confusion Matrix\")\n",
    "    print(confusion_matrix(classe_teste, predict))\n",
    "    print('\\n\\n')\n",
    "    print(classification_report(classe_teste, predict))"
   ]
  },
  {
   "cell_type": "markdown",
   "metadata": {},
   "source": [
    "## Regressão Logística"
   ]
  },
  {
   "cell_type": "code",
   "execution_count": 10,
   "metadata": {},
   "outputs": [
    {
     "name": "stdout",
     "output_type": "stream",
     "text": [
      "Accuracy mean CV: 70.004042%\n",
      "Accuracy CV[69.840419%, 70.167666%]\n"
     ]
    }
   ],
   "source": [
    "modelo = LogisticRegression(solver = 'lbfgs' , C = 10 ,max_iter = 250)\n",
    "crossvalidate(modelo)"
   ]
  },
  {
   "cell_type": "code",
   "execution_count": 11,
   "metadata": {},
   "outputs": [
    {
     "name": "stdout",
     "output_type": "stream",
     "text": [
      "[Fit time : 2.240968 segundos]\n",
      "[Acc score 69.861237%]\n",
      "\n",
      "\n",
      "Confusion Matrix\n",
      "[[31304 18439]\n",
      " [11534 38173]]\n",
      "\n",
      "\n",
      "\n",
      "              precision    recall  f1-score   support\n",
      "\n",
      "           0       0.73      0.63      0.68     49743\n",
      "           1       0.67      0.77      0.72     49707\n",
      "\n",
      "    accuracy                           0.70     99450\n",
      "   macro avg       0.70      0.70      0.70     99450\n",
      "weighted avg       0.70      0.70      0.70     99450\n",
      "\n"
     ]
    }
   ],
   "source": [
    "treino_teste(modelo)"
   ]
  },
  {
   "cell_type": "markdown",
   "metadata": {},
   "source": [
    "#### Mostra os maiores pesos ( sentimento positivo)"
   ]
  },
  {
   "cell_type": "code",
   "execution_count": 12,
   "metadata": {},
   "outputs": [
    {
     "data": {
      "text/html": [
       "<div>\n",
       "<style scoped>\n",
       "    .dataframe tbody tr th:only-of-type {\n",
       "        vertical-align: middle;\n",
       "    }\n",
       "\n",
       "    .dataframe tbody tr th {\n",
       "        vertical-align: top;\n",
       "    }\n",
       "\n",
       "    .dataframe thead th {\n",
       "        text-align: right;\n",
       "    }\n",
       "</style>\n",
       "<table border=\"1\" class=\"dataframe\">\n",
       "  <thead>\n",
       "    <tr style=\"text-align: right;\">\n",
       "      <th></th>\n",
       "      <th>0</th>\n",
       "    </tr>\n",
       "  </thead>\n",
       "  <tbody>\n",
       "    <tr>\n",
       "      <th>parab</th>\n",
       "      <td>3.183566</td>\n",
       "    </tr>\n",
       "    <tr>\n",
       "      <th>val</th>\n",
       "      <td>2.793439</td>\n",
       "    </tr>\n",
       "    <tr>\n",
       "      <th>feliz</th>\n",
       "      <td>2.766026</td>\n",
       "    </tr>\n",
       "    <tr>\n",
       "      <th>boa</th>\n",
       "      <td>2.379787</td>\n",
       "    </tr>\n",
       "    <tr>\n",
       "      <th>quis</th>\n",
       "      <td>2.357406</td>\n",
       "    </tr>\n",
       "    <tr>\n",
       "      <th>bom</th>\n",
       "      <td>2.256572</td>\n",
       "    </tr>\n",
       "    <tr>\n",
       "      <th>obrig</th>\n",
       "      <td>2.200787</td>\n",
       "    </tr>\n",
       "    <tr>\n",
       "      <th>ador</th>\n",
       "      <td>2.013864</td>\n",
       "    </tr>\n",
       "    <tr>\n",
       "      <th>legal</th>\n",
       "      <td>1.707412</td>\n",
       "    </tr>\n",
       "    <tr>\n",
       "      <th>segu</th>\n",
       "      <td>1.657933</td>\n",
       "    </tr>\n",
       "  </tbody>\n",
       "</table>\n",
       "</div>"
      ],
      "text/plain": [
       "              0\n",
       "parab  3.183566\n",
       "val    2.793439\n",
       "feliz  2.766026\n",
       "boa    2.379787\n",
       "quis   2.357406\n",
       "bom    2.256572\n",
       "obrig  2.200787\n",
       "ador   2.013864\n",
       "legal  1.707412\n",
       "segu   1.657933"
      ]
     },
     "execution_count": 12,
     "metadata": {},
     "output_type": "execute_result"
    }
   ],
   "source": [
    "weight = pd.DataFrame(\n",
    "    # peso de cada termo\n",
    "    modelo.coef_[0].T,\n",
    "    index = tfidf.get_feature_names()\n",
    ") \n",
    "# 0 = coluna do Dataframe\n",
    "weight.nlargest(10,0)"
   ]
  },
  {
   "cell_type": "markdown",
   "metadata": {},
   "source": [
    "#### Mostra os menores pesos ( sentimento negativo)"
   ]
  },
  {
   "cell_type": "code",
   "execution_count": 13,
   "metadata": {},
   "outputs": [
    {
     "data": {
      "text/html": [
       "<div>\n",
       "<style scoped>\n",
       "    .dataframe tbody tr th:only-of-type {\n",
       "        vertical-align: middle;\n",
       "    }\n",
       "\n",
       "    .dataframe tbody tr th {\n",
       "        vertical-align: top;\n",
       "    }\n",
       "\n",
       "    .dataframe thead th {\n",
       "        text-align: right;\n",
       "    }\n",
       "</style>\n",
       "<table border=\"1\" class=\"dataframe\">\n",
       "  <thead>\n",
       "    <tr style=\"text-align: right;\">\n",
       "      <th></th>\n",
       "      <th>0</th>\n",
       "    </tr>\n",
       "  </thead>\n",
       "  <tbody>\n",
       "    <tr>\n",
       "      <th>trist</th>\n",
       "      <td>-5.263269</td>\n",
       "    </tr>\n",
       "    <tr>\n",
       "      <th>pox</th>\n",
       "      <td>-4.435032</td>\n",
       "    </tr>\n",
       "    <tr>\n",
       "      <th>infeliz</th>\n",
       "      <td>-3.680914</td>\n",
       "    </tr>\n",
       "    <tr>\n",
       "      <th>saudad</th>\n",
       "      <td>-3.653627</td>\n",
       "    </tr>\n",
       "    <tr>\n",
       "      <th>sdd</th>\n",
       "      <td>-3.558819</td>\n",
       "    </tr>\n",
       "    <tr>\n",
       "      <th>quer</th>\n",
       "      <td>-3.039984</td>\n",
       "    </tr>\n",
       "    <tr>\n",
       "      <th>nen</th>\n",
       "      <td>-2.609216</td>\n",
       "    </tr>\n",
       "    <tr>\n",
       "      <th>ruim</th>\n",
       "      <td>-2.327017</td>\n",
       "    </tr>\n",
       "    <tr>\n",
       "      <th>gt</th>\n",
       "      <td>-2.295753</td>\n",
       "    </tr>\n",
       "    <tr>\n",
       "      <th>sint</th>\n",
       "      <td>-2.161114</td>\n",
       "    </tr>\n",
       "  </tbody>\n",
       "</table>\n",
       "</div>"
      ],
      "text/plain": [
       "                0\n",
       "trist   -5.263269\n",
       "pox     -4.435032\n",
       "infeliz -3.680914\n",
       "saudad  -3.653627\n",
       "sdd     -3.558819\n",
       "quer    -3.039984\n",
       "nen     -2.609216\n",
       "ruim    -2.327017\n",
       "gt      -2.295753\n",
       "sint    -2.161114"
      ]
     },
     "execution_count": 13,
     "metadata": {},
     "output_type": "execute_result"
    }
   ],
   "source": [
    "# 0 = coluna do Dataframe\n",
    "weight.nsmallest(10,0)"
   ]
  },
  {
   "cell_type": "markdown",
   "metadata": {},
   "source": [
    "## SVM"
   ]
  },
  {
   "cell_type": "code",
   "execution_count": 14,
   "metadata": {},
   "outputs": [
    {
     "name": "stdout",
     "output_type": "stream",
     "text": [
      "Accuracy mean CV: 69.947732%\n",
      "Accuracy CV[69.552231%, 70.343234%]\n"
     ]
    }
   ],
   "source": [
    "modelo = LinearSVC(random_state=0, tol=1e-5)\n",
    "crossvalidate(modelo)"
   ]
  },
  {
   "cell_type": "code",
   "execution_count": 15,
   "metadata": {},
   "outputs": [
    {
     "name": "stdout",
     "output_type": "stream",
     "text": [
      "[Fit time : 5.920915 segundos]\n",
      "[Acc score 69.802916%]\n",
      "\n",
      "\n",
      "Confusion Matrix\n",
      "[[31137 18606]\n",
      " [11425 38282]]\n",
      "\n",
      "\n",
      "\n",
      "              precision    recall  f1-score   support\n",
      "\n",
      "           0       0.73      0.63      0.67     49743\n",
      "           1       0.67      0.77      0.72     49707\n",
      "\n",
      "    accuracy                           0.70     99450\n",
      "   macro avg       0.70      0.70      0.70     99450\n",
      "weighted avg       0.70      0.70      0.70     99450\n",
      "\n"
     ]
    }
   ],
   "source": [
    "treino_teste(modelo)"
   ]
  },
  {
   "cell_type": "markdown",
   "metadata": {},
   "source": [
    "#### Mostra os maiores pesos ( sentimento positivo)"
   ]
  },
  {
   "cell_type": "code",
   "execution_count": 16,
   "metadata": {},
   "outputs": [
    {
     "data": {
      "text/html": [
       "<div>\n",
       "<style scoped>\n",
       "    .dataframe tbody tr th:only-of-type {\n",
       "        vertical-align: middle;\n",
       "    }\n",
       "\n",
       "    .dataframe tbody tr th {\n",
       "        vertical-align: top;\n",
       "    }\n",
       "\n",
       "    .dataframe thead th {\n",
       "        text-align: right;\n",
       "    }\n",
       "</style>\n",
       "<table border=\"1\" class=\"dataframe\">\n",
       "  <thead>\n",
       "    <tr style=\"text-align: right;\">\n",
       "      <th></th>\n",
       "      <th>0</th>\n",
       "    </tr>\n",
       "  </thead>\n",
       "  <tbody>\n",
       "    <tr>\n",
       "      <th>parab</th>\n",
       "      <td>1.017633</td>\n",
       "    </tr>\n",
       "    <tr>\n",
       "      <th>feliz</th>\n",
       "      <td>1.005936</td>\n",
       "    </tr>\n",
       "    <tr>\n",
       "      <th>val</th>\n",
       "      <td>0.966555</td>\n",
       "    </tr>\n",
       "    <tr>\n",
       "      <th>quis</th>\n",
       "      <td>0.857515</td>\n",
       "    </tr>\n",
       "    <tr>\n",
       "      <th>boa</th>\n",
       "      <td>0.844133</td>\n",
       "    </tr>\n",
       "    <tr>\n",
       "      <th>bom</th>\n",
       "      <td>0.832062</td>\n",
       "    </tr>\n",
       "    <tr>\n",
       "      <th>obrig</th>\n",
       "      <td>0.759308</td>\n",
       "    </tr>\n",
       "    <tr>\n",
       "      <th>ador</th>\n",
       "      <td>0.736319</td>\n",
       "    </tr>\n",
       "    <tr>\n",
       "      <th>legal</th>\n",
       "      <td>0.662650</td>\n",
       "    </tr>\n",
       "    <tr>\n",
       "      <th>segu</th>\n",
       "      <td>0.632240</td>\n",
       "    </tr>\n",
       "  </tbody>\n",
       "</table>\n",
       "</div>"
      ],
      "text/plain": [
       "              0\n",
       "parab  1.017633\n",
       "feliz  1.005936\n",
       "val    0.966555\n",
       "quis   0.857515\n",
       "boa    0.844133\n",
       "bom    0.832062\n",
       "obrig  0.759308\n",
       "ador   0.736319\n",
       "legal  0.662650\n",
       "segu   0.632240"
      ]
     },
     "execution_count": 16,
     "metadata": {},
     "output_type": "execute_result"
    }
   ],
   "source": [
    "weight = pd.DataFrame(\n",
    "    # peso de cada termo\n",
    "    modelo.coef_[0].T,\n",
    "    index = tfidf.get_feature_names()\n",
    ") \n",
    "# 0 = coluna do Dataframe\n",
    "weight.nlargest(10,0)"
   ]
  },
  {
   "cell_type": "markdown",
   "metadata": {},
   "source": [
    "#### Mostra os menores pesos ( sentimento negativo)"
   ]
  },
  {
   "cell_type": "code",
   "execution_count": 17,
   "metadata": {},
   "outputs": [
    {
     "data": {
      "text/html": [
       "<div>\n",
       "<style scoped>\n",
       "    .dataframe tbody tr th:only-of-type {\n",
       "        vertical-align: middle;\n",
       "    }\n",
       "\n",
       "    .dataframe tbody tr th {\n",
       "        vertical-align: top;\n",
       "    }\n",
       "\n",
       "    .dataframe thead th {\n",
       "        text-align: right;\n",
       "    }\n",
       "</style>\n",
       "<table border=\"1\" class=\"dataframe\">\n",
       "  <thead>\n",
       "    <tr style=\"text-align: right;\">\n",
       "      <th></th>\n",
       "      <th>0</th>\n",
       "    </tr>\n",
       "  </thead>\n",
       "  <tbody>\n",
       "    <tr>\n",
       "      <th>trist</th>\n",
       "      <td>-1.771805</td>\n",
       "    </tr>\n",
       "    <tr>\n",
       "      <th>pox</th>\n",
       "      <td>-1.479291</td>\n",
       "    </tr>\n",
       "    <tr>\n",
       "      <th>infeliz</th>\n",
       "      <td>-1.346822</td>\n",
       "    </tr>\n",
       "    <tr>\n",
       "      <th>saudad</th>\n",
       "      <td>-1.188833</td>\n",
       "    </tr>\n",
       "    <tr>\n",
       "      <th>sdd</th>\n",
       "      <td>-1.174141</td>\n",
       "    </tr>\n",
       "    <tr>\n",
       "      <th>quer</th>\n",
       "      <td>-1.144307</td>\n",
       "    </tr>\n",
       "    <tr>\n",
       "      <th>nen</th>\n",
       "      <td>-0.973127</td>\n",
       "    </tr>\n",
       "    <tr>\n",
       "      <th>gt</th>\n",
       "      <td>-0.927424</td>\n",
       "    </tr>\n",
       "    <tr>\n",
       "      <th>ruim</th>\n",
       "      <td>-0.919588</td>\n",
       "    </tr>\n",
       "    <tr>\n",
       "      <th>sint</th>\n",
       "      <td>-0.867684</td>\n",
       "    </tr>\n",
       "  </tbody>\n",
       "</table>\n",
       "</div>"
      ],
      "text/plain": [
       "                0\n",
       "trist   -1.771805\n",
       "pox     -1.479291\n",
       "infeliz -1.346822\n",
       "saudad  -1.188833\n",
       "sdd     -1.174141\n",
       "quer    -1.144307\n",
       "nen     -0.973127\n",
       "gt      -0.927424\n",
       "ruim    -0.919588\n",
       "sint    -0.867684"
      ]
     },
     "execution_count": 17,
     "metadata": {},
     "output_type": "execute_result"
    }
   ],
   "source": [
    "# 0 = coluna do Dataframe\n",
    "weight.nsmallest(10,0)"
   ]
  },
  {
   "cell_type": "markdown",
   "metadata": {},
   "source": [
    "## Decision Tree Classifier"
   ]
  },
  {
   "cell_type": "code",
   "execution_count": 18,
   "metadata": {},
   "outputs": [
    {
     "name": "stdout",
     "output_type": "stream",
     "text": [
      "Accuracy mean CV: 62.486652%\n",
      "Accuracy CV[62.336566%, 62.636737%]\n"
     ]
    }
   ],
   "source": [
    "modelo = DecisionTreeClassifier(random_state=0,max_depth = 10)\n",
    "crossvalidate(modelo)"
   ]
  },
  {
   "cell_type": "code",
   "execution_count": 19,
   "metadata": {},
   "outputs": [
    {
     "name": "stdout",
     "output_type": "stream",
     "text": [
      "[Fit time : 2.832539 segundos]\n",
      "[Acc score 62.548014%]\n",
      "\n",
      "\n",
      "Confusion Matrix\n",
      "[[17146 32597]\n",
      " [ 4649 45058]]\n",
      "\n",
      "\n",
      "\n",
      "              precision    recall  f1-score   support\n",
      "\n",
      "           0       0.79      0.34      0.48     49743\n",
      "           1       0.58      0.91      0.71     49707\n",
      "\n",
      "    accuracy                           0.63     99450\n",
      "   macro avg       0.68      0.63      0.59     99450\n",
      "weighted avg       0.68      0.63      0.59     99450\n",
      "\n"
     ]
    }
   ],
   "source": [
    "treino_teste(modelo)"
   ]
  },
  {
   "cell_type": "markdown",
   "metadata": {},
   "source": [
    "## Random Forest Classifier"
   ]
  },
  {
   "cell_type": "code",
   "execution_count": 20,
   "metadata": {},
   "outputs": [
    {
     "name": "stdout",
     "output_type": "stream",
     "text": [
      "Accuracy mean CV: 65.871891%\n",
      "Accuracy CV[65.757479%, 65.986303%]\n"
     ]
    }
   ],
   "source": [
    "modelo = RandomForestClassifier(n_estimators=100, max_depth=10,random_state=0)\n",
    "crossvalidate(modelo)"
   ]
  },
  {
   "cell_type": "code",
   "execution_count": 21,
   "metadata": {},
   "outputs": [
    {
     "name": "stdout",
     "output_type": "stream",
     "text": [
      "[Fit time : 16.566944 segundos]\n",
      "[Acc score 65.832076%]\n",
      "\n",
      "\n",
      "Confusion Matrix\n",
      "[[22647 27096]\n",
      " [ 6884 42823]]\n",
      "\n",
      "\n",
      "\n",
      "              precision    recall  f1-score   support\n",
      "\n",
      "           0       0.77      0.46      0.57     49743\n",
      "           1       0.61      0.86      0.72     49707\n",
      "\n",
      "    accuracy                           0.66     99450\n",
      "   macro avg       0.69      0.66      0.64     99450\n",
      "weighted avg       0.69      0.66      0.64     99450\n",
      "\n"
     ]
    }
   ],
   "source": [
    "treino_teste(modelo)"
   ]
  }
 ],
 "metadata": {
  "kernelspec": {
   "display_name": "Python 3",
   "language": "python",
   "name": "python3"
  },
  "language_info": {
   "codemirror_mode": {
    "name": "ipython",
    "version": 3
   },
   "file_extension": ".py",
   "mimetype": "text/x-python",
   "name": "python",
   "nbconvert_exporter": "python",
   "pygments_lexer": "ipython3",
   "version": "3.7.3"
  }
 },
 "nbformat": 4,
 "nbformat_minor": 2
}
